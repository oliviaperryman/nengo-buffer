{
 "cells": [
  {
   "cell_type": "code",
   "execution_count": 6,
   "metadata": {
    "collapsed": false
   },
   "outputs": [],
   "source": [
    "import matplotlib\n",
    "from matplotlib import pylab\n",
    "import cPickle\n",
    "import matplotlib.pyplot as plt\n",
    "import matplotlib.animation as animation\n",
    "import numpy as np\n",
    "\n",
    "'''Open the file  (uncomment the desired output)'''\n",
    "\n",
    "#output = cPickle.load(open(\"Buffer_rotations_stimulus.p\", \"rb\"))\n",
    "#output = cPickle.load(open(\"Buffer_rotations_connection_direct.p\", \"rb\"))\n",
    "#output = cPickle.load(open(\"Buffer_rotations_connection_LIF.p\", \"rb\"))\n",
    "#output = cPickle.load(open(\"Buffer_rotations_connection_two_ens_direct.p\", \"rb\"))\n",
    "#output = cPickle.load(open(\"Buffer_rotations_connection_two_ens_LIF.p\", \"rb\"))\n",
    "#output = cPickle.load(open(\"Buffer_rotations_two_ens_node_LIF.p\", \"rb\"))\n",
    "#output = cPickle.load(open(\"Buffer_rotations_ensemble_array_LIF.p\", \"rb\"))\n",
    "#output = cPickle.load(open(\"Buffer_rotations_with_scalar_one_ens_direct.p\", \"rb\"))\n",
    "#output = cPickle.load(open(\"Buffer_rotations_with_scalar_one_ens_LIF.p\", \"rb\"))\n",
    "#output = cPickle.load(open(\"Buffer_rotations_with_scalar_two_ens_direct.p\", \"rb\"))\n",
    "#output = cPickle.load(open(\"Buffer_rotations_with_scalar_two_ens_LIF.p\", \"rb\"))\n",
    "#output = cPickle.load(open(\"Buffer_rotations_ensemble_array_scalar_LIF.p\", \"rb\"))\n",
    "#output = cPickle.load(open(\"Buffer_manipulations_ensemble_array_scalar_LIF.p\", \"rb\"))\n",
    "output = cPickle.load(open(\"Buffer_scale_ensemble_array_scalar_LIF_1.p\", \"rb\"))\n",
    "\n",
    "#output = cPickle.load(open(\"Buffer_rotations_connection_LIF_10000.p\", \"rb\"))\n",
    "\n",
    "#output = cPickle.load(open(\"Buffer_rotations_larger_images_32.p\", \"rb\"))\n",
    "#output = cPickle.load(open(\"Buffer_rotations_larger_images_64.p\", \"rb\"))\n",
    "\n",
    "dim = 28\n",
    "\n",
    "#%matplotlib inline"
   ]
  },
  {
   "cell_type": "code",
   "execution_count": 8,
   "metadata": {
    "collapsed": false
   },
   "outputs": [],
   "source": [
    "'''Animation for Probe output'''\n",
    "fig = plt.figure()\n",
    "\n",
    "def updatefig(i):\n",
    "    im = pylab.imshow(np.reshape([0. if x < 0.00001 else x for x in output[i]], (dim, dim), 'F'), cmap=plt.get_cmap('Greys_r'),\n",
    "                  animated=True)\n",
    "    return im,\n",
    "\n",
    "ani = animation.FuncAnimation(fig, updatefig, interval=1, blit=True)\n",
    "plt.show()\n"
   ]
  },
  {
   "cell_type": "code",
   "execution_count": 33,
   "metadata": {
    "collapsed": false
   },
   "outputs": [],
   "source": [
    "'''These ensembles have outputs including the scalar value, so each output must be resized '''\n",
    "#output = cPickle.load(open(\"Buffer_rotations_with_scalar_resized_basis_direct.p\", \"rb\"))\n",
    "#output = cPickle.load(open(\"Buffer_rotations_with_scalar_resized_basis_LIF.p\", \"rb\"))"
   ]
  },
  {
   "cell_type": "code",
   "execution_count": 34,
   "metadata": {
    "collapsed": false
   },
   "outputs": [],
   "source": [
    "'''For the ensemble with 28*28 +1 dimensions'''\n",
    "'''Animation for Probe output'''\n",
    "fig = plt.figure()\n",
    "\n",
    "def updatefig(i):\n",
    "    im = pylab.imshow(np.reshape([0. if x < 0.00001 else x for x in output[i][:-1]],\n",
    "                                 (dim, dim), 'F'), cmap=plt.get_cmap('Greys_r'),animated=True)\n",
    "    \n",
    "    return im,\n",
    "\n",
    "ani = animation.FuncAnimation(fig, updatefig, interval=1, blit=True)\n",
    "plt.show()"
   ]
  }
 ],
 "metadata": {
  "kernelspec": {
   "display_name": "Python 2",
   "language": "python",
   "name": "python2"
  },
  "language_info": {
   "codemirror_mode": {
    "name": "ipython",
    "version": 2
   },
   "file_extension": ".py",
   "mimetype": "text/x-python",
   "name": "python",
   "nbconvert_exporter": "python",
   "pygments_lexer": "ipython2",
   "version": "2.7.11"
  }
 },
 "nbformat": 4,
 "nbformat_minor": 0
}
