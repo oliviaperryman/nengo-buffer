{
 "cells": [
  {
   "cell_type": "code",
   "execution_count": 3,
   "metadata": {
    "collapsed": false
   },
   "outputs": [],
   "source": [
    "import matplotlib\n",
    "from matplotlib import pylab\n",
    "import cPickle\n",
    "import matplotlib.pyplot as plt\n",
    "import matplotlib.animation as animation\n",
    "import numpy as np\n",
    "\n",
    "'''Open the file  (uncomment the desired output)'''\n",
    "\n",
    "#output = cPickle.load(open(\"Buffer_rotations_stimulus.p\", \"rb\"))\n",
    "#output = cPickle.load(open(\"Buffer_rotations_connection_direct.p\", \"rb\"))\n",
    "#output = cPickle.load(open(\"Buffer_rotations_connection_LIF.p\", \"rb\"))\n",
    "#output = cPickle.load(open(\"Buffer_rotations_connection_two_ens_direct.p\", \"rb\"))\n",
    "#output = cPickle.load(open(\"Buffer_rotations_connection_two_ens_LIF.p\", \"rb\"))\n",
    "#output = cPickle.load(open(\"Buffer_rotations_two_ens_node_LIF.p\", \"rb\"))\n",
    "#output = cPickle.load(open(\"Buffer_rotations_ensemble_array_LIF.p\", \"rb\"))\n",
    "#output = cPickle.load(open(\"Buffer_rotations_with_scalar_one_ens_direct.p\", \"rb\"))\n",
    "#output = cPickle.load(open(\"Buffer_rotations_with_scalar_one_ens_LIF.p\", \"rb\"))\n",
    "#output = cPickle.load(open(\"Buffer_rotations_with_scalar_two_ens_direct.p\", \"rb\"))\n",
    "#output = cPickle.load(open(\"Buffer_rotations_with_scalar_two_ens_LIF.p\", \"rb\"))\n",
    "#output = cPickle.load(open(\"Buffer_rotations_ensemble_array_scalar_LIF.p\", \"rb\"))\n",
    "#output = cPickle.load(open(\"Buffer_manipulations_ensemble_array_scalar_LIF.p\", \"rb\"))\n",
    "#output = cPickle.load(open(\"Buffer_scale_ensemble_array_scalar_LIF_1.p\", \"rb\"))\n",
    "\n",
    "#output = cPickle.load(open(\"Buffer_rotations_connection_LIF_10000.p\", \"rb\"))\n",
    "\n",
    "#output = cPickle.load(open(\"Buffer_rotations_larger_images_32.p\", \"rb\"))\n",
    "#output = cPickle.load(open(\"Buffer_rotations_larger_images_64.p\", \"rb\"))\n",
    "\n",
    "#output = cPickle.load(open(\"Buffer_rotations_in_connection_with_ens_arr_LIF.p\", \"rb\"))\n",
    "#output = cPickle.load(open(\"Buffer_rotations_in_connection_with_ens_arr_direct.p\", \"rb\"))\n",
    "\n",
    "\n",
    "#output = cPickle.load(open(\"Buffer_rotations_in_connection_ensemble_array_direct.p\", \"rb\"))\n",
    "output = cPickle.load(open(\"Buffer_rotations_in_connection_ensemble_array_LIF_100.p\", \"rb\"))\n",
    "\n",
    "\n",
    "dim = 28\n",
    "\n",
    "#%matplotlib inline"
   ]
  },
  {
   "cell_type": "code",
   "execution_count": 4,
   "metadata": {
    "collapsed": false
   },
   "outputs": [],
   "source": [
    "'''Animation for Probe output'''\n",
    "fig = plt.figure()\n",
    "\n",
    "def updatefig(i):\n",
    "    im = pylab.imshow(np.reshape([0. if x < 0.00001 else x for x in output[i]], (dim, dim), 'F'), cmap=plt.get_cmap('Greys_r'),\n",
    "                  animated=True)\n",
    "    return im,\n",
    "\n",
    "ani = animation.FuncAnimation(fig, updatefig, interval=1, blit=True)\n",
    "plt.show()\n"
   ]
  },
  {
   "cell_type": "code",
   "execution_count": 33,
   "metadata": {
    "collapsed": false
   },
   "outputs": [],
   "source": [
    "'''These ensembles have outputs including the scalar value, so each output must be resized '''\n",
    "#output = cPickle.load(open(\"Buffer_rotations_with_scalar_resized_basis_direct.p\", \"rb\"))\n",
    "#output = cPickle.load(open(\"Buffer_rotations_with_scalar_resized_basis_LIF.p\", \"rb\"))\n",
    "\n",
    "#output = cPickle.load(open(\"Buffer_rotations_in_connection_ensemble_array_scalar_direct.p\", \"rb\"))\n",
    "#output = cPickle.load(open(\"Buffer_rotations_in_connection_ensemble_array_scalar_LIF.p\", \"rb\"))\n"
   ]
  },
  {
   "cell_type": "code",
   "execution_count": 34,
   "metadata": {
    "collapsed": false
   },
   "outputs": [],
   "source": [
    "'''For the ensemble with 28*28 +1 dimensions'''\n",
    "'''Animation for Probe output'''\n",
    "fig = plt.figure()\n",
    "\n",
    "def updatefig(i):\n",
    "    im = pylab.imshow(np.reshape([0. if x < 0.00001 else x for x in output[i][:-1]],\n",
    "                                 (dim, dim), 'F'), cmap=plt.get_cmap('Greys_r'),animated=True)\n",
    "    \n",
    "    return im,\n",
    "\n",
    "ani = animation.FuncAnimation(fig, updatefig, interval=1, blit=True)\n",
    "plt.show()"
   ]
  },
  {
   "cell_type": "code",
   "execution_count": 13,
   "metadata": {
    "collapsed": false
   },
   "outputs": [],
   "source": [
    "'''These ensembles have outputs including 4 scalar values, so each output must be resized '''\n",
    "\n",
    "#output = cPickle.load(open(\"Buffer_manipulations_in_connection_ensemble_array_scalar_direct.p\", \"rb\"))\n",
    "output = cPickle.load(open(\"Buffer_manipulations_in_connection_ensemble_array_scalar_LIF.p\", \"rb\"))"
   ]
  },
  {
   "cell_type": "code",
   "execution_count": 14,
   "metadata": {
    "collapsed": false
   },
   "outputs": [
    {
     "name": "stderr",
     "output_type": "stream",
     "text": [
      "Exception in Tkinter callback\n",
      "Traceback (most recent call last):\n",
      "  File \"C:\\Python27\\lib\\lib-tk\\Tkinter.py\", line 1536, in __call__\n",
      "    return self.func(*args)\n",
      "  File \"C:\\Python27\\lib\\lib-tk\\Tkinter.py\", line 587, in callit\n",
      "    func(*args)\n",
      "  File \"C:\\Python27\\lib\\site-packages\\matplotlib\\backends\\backend_tkagg.py\", line 147, in _on_timer\n",
      "    TimerBase._on_timer(self)\n",
      "  File \"C:\\Python27\\lib\\site-packages\\matplotlib\\backend_bases.py\", line 1305, in _on_timer\n",
      "    ret = func(*args, **kwargs)\n",
      "  File \"C:\\Python27\\lib\\site-packages\\matplotlib\\animation.py\", line 1021, in _step\n",
      "    still_going = Animation._step(self, *args)\n",
      "  File \"C:\\Python27\\lib\\site-packages\\matplotlib\\animation.py\", line 827, in _step\n",
      "    self._draw_next_frame(framedata, self._blit)\n",
      "  File \"C:\\Python27\\lib\\site-packages\\matplotlib\\animation.py\", line 846, in _draw_next_frame\n",
      "    self._draw_frame(framedata)\n",
      "  File \"C:\\Python27\\lib\\site-packages\\matplotlib\\animation.py\", line 1212, in _draw_frame\n",
      "    self._drawn_artists = self._func(framedata, *self._args)\n",
      "  File \"<ipython-input-14-20e2650005de>\", line 6, in updatefig\n",
      "    im = pylab.imshow(np.reshape([0. if x < 0.00001 else x for x in output[i][4:]],\n",
      "IndexError: index 3000 is out of bounds for axis 0 with size 3000\n"
     ]
    }
   ],
   "source": [
    "'''For the ensemble with 28*28 +1 dimensions'''\n",
    "'''Animation for Probe output'''\n",
    "fig = plt.figure()\n",
    "\n",
    "def updatefig(i):\n",
    "    im = pylab.imshow(np.reshape([0. if x < 0.00001 else x for x in output[i][4:]],\n",
    "                                 (dim, dim), 'F'), cmap=plt.get_cmap('Greys_r'),animated=True)\n",
    "    \n",
    "    return im,\n",
    "\n",
    "ani = animation.FuncAnimation(fig, updatefig, interval=1, blit=True)\n",
    "plt.show()"
   ]
  }
 ],
 "metadata": {
  "kernelspec": {
   "display_name": "Python 2",
   "language": "python",
   "name": "python2"
  },
  "language_info": {
   "codemirror_mode": {
    "name": "ipython",
    "version": 2
   },
   "file_extension": ".py",
   "mimetype": "text/x-python",
   "name": "python",
   "nbconvert_exporter": "python",
   "pygments_lexer": "ipython2",
   "version": "2.7.11"
  }
 },
 "nbformat": 4,
 "nbformat_minor": 0
}
