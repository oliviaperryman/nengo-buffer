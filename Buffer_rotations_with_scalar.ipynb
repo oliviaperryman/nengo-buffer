{
 "cells": [
  {
   "cell_type": "code",
   "execution_count": 16,
   "metadata": {
    "collapsed": false
   },
   "outputs": [],
   "source": [
    "from matplotlib import pylab\n",
    "import nengo\n",
    "import random\n",
    "import numpy as np\n",
    "import gzip as gz\n",
    "from cPickle import load\n",
    "try:\n",
    "    import Image\n",
    "except ImportError:\n",
    "    from PIL import Image\n",
    "from scipy.sparse.linalg import svds\n",
    "import scipy\n",
    "from scipy import ndimage\n",
    "import matplotlib.pyplot as plt\n",
    "import matplotlib.animation as animation\n",
    "\n",
    "#%matplotlib inline #Makes visualizations appar inline (Commented out because animation popup as new window)"
   ]
  },
  {
   "cell_type": "code",
   "execution_count": 17,
   "metadata": {
    "collapsed": true
   },
   "outputs": [],
   "source": [
    "def load_img(path, dims):\n",
    "    \"\"\"Load the image at path and return an array representing the raster.\n",
    "    Flattens image. Shifts pixel activations such that 0 represents gray,\n",
    "    normalizes the output array.\n",
    "    Keyword arguments:\n",
    "    path -- str, path of the image to be loaded.\n",
    "    dims -- (w, h), where w,h are ints indicating dimensions of the image (in\n",
    "        px).\"\"\"\n",
    "\n",
    "    img = Image.open(path).resize(dims).getdata()\n",
    "    img.convert('L')\n",
    "    img = subtract(array(img).flatten(), 127.5)\n",
    "    return img/norm(img)\n",
    "\n",
    "\n",
    "def load_data(filename):\n",
    "    \"\"\"Uncompress, unpickle and return a .pkl.gz file.\n",
    "    Keyword arguments:\n",
    "    filename -- str, a valid file path\"\"\"\n",
    "\n",
    "    return load(gz.open(filename))\n",
    "\n",
    "def load_mini_mnist(option=None):\n",
    "    \"\"\"Load and return the first \\%10 of the images in the mnist dataset.\n",
    "    Does not return labels. Pass in 'train', 'valid' or 'test' if you want to\n",
    "    load a specific subset of the dataset.\n",
    "    Keyword arguments:\n",
    "    option -- str (default=None).\"\"\"\n",
    "\n",
    "    mini_mnist = load(gz.open('./mini_mnist.pkl.gz', 'rb'))\n",
    "    if option == 'train':\n",
    "        return mini_mnist[0]\n",
    "    elif option == 'valid':\n",
    "        return mini_mnist[1]\n",
    "    elif option == 'test':\n",
    "        return mini_mnist[2]\n",
    "    else:\n",
    "        return mini_mnist"
   ]
  },
  {
   "cell_type": "code",
   "execution_count": 18,
   "metadata": {
    "collapsed": false
   },
   "outputs": [],
   "source": [
    "def rotate_img(img, degrees):\n",
    "    '''Rotates image the degrees passed in counterclockwise\n",
    "    Reshapes image to original shape\n",
    "    '''\n",
    "    original = img.shape\n",
    "    \n",
    "    newImg = scipy.ndimage.interpolation.rotate(np.reshape(img, (dim,dim), 'F'),degrees,reshape=False)\n",
    "    newImg = np.reshape(newImg, original, 'F')\n",
    "    return newImg"
   ]
  },
  {
   "cell_type": "code",
   "execution_count": 19,
   "metadata": {
    "collapsed": true
   },
   "outputs": [],
   "source": [
    "conn_synapse = 0.1 #post synaptic time constant to use for filtering (pstc) - what does changing this do?\n",
    "probe_synapse = 0.01 #pstc\n",
    "multiplier = 2 #not used\n",
    "n_neurons = 5000\n",
    "direct = True #Direct - function computed explicitly instead of in neurons \n",
    "stop_time = 3.0\n",
    "run_time = 3.0 #in seconds"
   ]
  },
  {
   "cell_type": "code",
   "execution_count": 20,
   "metadata": {
    "collapsed": false
   },
   "outputs": [],
   "source": [
    "dim = 28 #size of the image\n",
    "mnist = load_mini_mnist()\n",
    "train = mnist[0] #collection of training images\n",
    "img = mnist[1][0] #image to be used for testing\n",
    "compress_size = 400 #?\n",
    "basis, S, V = svds(train.T, k=compress_size) #Used for encoding and decoding information \n",
    "    #a set of vectors representing what a hand drawn number should look like?"
   ]
  },
  {
   "cell_type": "code",
   "execution_count": 21,
   "metadata": {
    "collapsed": false
   },
   "outputs": [],
   "source": [
    "#Need same number of vectors in basis as number of neurons (randomly sample from basis)\n",
    "expanded_basis = np.array([random.choice(basis.T) for _ in range(n_neurons)]) "
   ]
  },
  {
   "cell_type": "code",
   "execution_count": 22,
   "metadata": {
    "collapsed": true
   },
   "outputs": [],
   "source": [
    "def stim_func(t):\n",
    "    '''returns the image for first 0.1s'''\n",
    "    if t < 0.1:\n",
    "        return img\n",
    "    else:\n",
    "        return [0 for _ in range(len(img))]"
   ]
  },
  {
   "cell_type": "code",
   "execution_count": 23,
   "metadata": {
    "collapsed": true
   },
   "outputs": [],
   "source": [
    "def stim_func_rot(t):\n",
    "    if t < 0.2:\n",
    "        return 0\n",
    "    elif t<0.4:\n",
    "        return 10\n",
    "    else:\n",
    "        return 1"
   ]
  },
  {
   "cell_type": "code",
   "execution_count": 24,
   "metadata": {
    "collapsed": true
   },
   "outputs": [],
   "source": [
    "def connection_func(x):\n",
    "    '''takes the output from the first ensemble and rotates it degress specified by stim''' \n",
    "    return rotate_img(x[:-1],x[-1])\n",
    "   "
   ]
  },
  {
   "cell_type": "code",
   "execution_count": 10,
   "metadata": {
    "collapsed": true
   },
   "outputs": [],
   "source": [
    "# Interference from stimulus when trying to rotate, so tried to delay rotation function\n",
    "\n",
    "def node_func(t,x):\n",
    "    '''takes the output from the first ensemble and rotates it 1 degrees'''\n",
    "    if t < 0.1:\n",
    "        return x\n",
    "    else:\n",
    "        #return rotate_img(x,10) - (x*0.1)\n",
    "        return rotate_img(x,1)"
   ]
  },
  {
   "cell_type": "code",
   "execution_count": 26,
   "metadata": {
    "collapsed": false
   },
   "outputs": [
    {
     "ename": "ValueError",
     "evalue": "Validation error when setting 'Ensemble.encoders': shape[1] should be 785 (got 784)",
     "output_type": "error",
     "traceback": [
      "\u001b[1;31m---------------------------------------------------------------------------\u001b[0m",
      "\u001b[1;31mValueError\u001b[0m                                Traceback (most recent call last)",
      "\u001b[1;32m<ipython-input-26-075d2b1ecb18>\u001b[0m in \u001b[0;36m<module>\u001b[1;34m()\u001b[0m\n\u001b[0;32m     18\u001b[0m                          \u001b[0meval_points\u001b[0m\u001b[1;33m=\u001b[0m\u001b[0mexpanded_basis\u001b[0m\u001b[1;33m,\u001b[0m \u001b[1;31m#used for decoder solving, spanning interval\u001b[0m\u001b[1;33m\u001b[0m\u001b[0m\n\u001b[0;32m     19\u001b[0m                          \u001b[0mn_eval_points\u001b[0m\u001b[1;33m=\u001b[0m\u001b[0mn_neurons\u001b[0m\u001b[1;33m,\u001b[0m\u001b[1;33m\u001b[0m\u001b[0m\n\u001b[1;32m---> 20\u001b[1;33m                          neuron_type=neuron_type)\n\u001b[0m\u001b[0;32m     21\u001b[0m \u001b[1;33m\u001b[0m\u001b[0m\n\u001b[0;32m     22\u001b[0m     nengo.Connection(ipt, #source nengo object\n",
      "\u001b[1;32mC:\\Python27\\lib\\site-packages\\nengo\\base.pyc\u001b[0m in \u001b[0;36m__call__\u001b[1;34m(cls, *args, **kwargs)\u001b[0m\n\u001b[0;32m     22\u001b[0m         \u001b[0madd_to_container\u001b[0m \u001b[1;33m=\u001b[0m \u001b[0mkwargs\u001b[0m\u001b[1;33m.\u001b[0m\u001b[0mpop\u001b[0m\u001b[1;33m(\u001b[0m\u001b[1;34m'add_to_container'\u001b[0m\u001b[1;33m,\u001b[0m \u001b[0mTrue\u001b[0m\u001b[1;33m)\u001b[0m\u001b[1;33m\u001b[0m\u001b[0m\n\u001b[0;32m     23\u001b[0m         \u001b[1;31m# Do the __init__ before adding in case __init__ errors out\u001b[0m\u001b[1;33m\u001b[0m\u001b[1;33m\u001b[0m\u001b[0m\n\u001b[1;32m---> 24\u001b[1;33m         \u001b[0minst\u001b[0m\u001b[1;33m.\u001b[0m\u001b[0m__init__\u001b[0m\u001b[1;33m(\u001b[0m\u001b[1;33m*\u001b[0m\u001b[0margs\u001b[0m\u001b[1;33m,\u001b[0m \u001b[1;33m**\u001b[0m\u001b[0mkwargs\u001b[0m\u001b[1;33m)\u001b[0m\u001b[1;33m\u001b[0m\u001b[0m\n\u001b[0m\u001b[0;32m     25\u001b[0m         \u001b[1;32mif\u001b[0m \u001b[0madd_to_container\u001b[0m\u001b[1;33m:\u001b[0m\u001b[1;33m\u001b[0m\u001b[0m\n\u001b[0;32m     26\u001b[0m             \u001b[0mNetwork\u001b[0m\u001b[1;33m.\u001b[0m\u001b[0madd\u001b[0m\u001b[1;33m(\u001b[0m\u001b[0minst\u001b[0m\u001b[1;33m)\u001b[0m\u001b[1;33m\u001b[0m\u001b[0m\n",
      "\u001b[1;32mC:\\Python27\\lib\\site-packages\\nengo\\ensemble.pyc\u001b[0m in \u001b[0;36m__init__\u001b[1;34m(self, n_neurons, dimensions, radius, encoders, intercepts, max_rates, eval_points, n_eval_points, neuron_type, gain, bias, noise, seed, label)\u001b[0m\n\u001b[0;32m     83\u001b[0m         \u001b[0mself\u001b[0m\u001b[1;33m.\u001b[0m\u001b[0mdimensions\u001b[0m \u001b[1;33m=\u001b[0m \u001b[0mdimensions\u001b[0m\u001b[1;33m\u001b[0m\u001b[0m\n\u001b[0;32m     84\u001b[0m         \u001b[0mself\u001b[0m\u001b[1;33m.\u001b[0m\u001b[0mradius\u001b[0m \u001b[1;33m=\u001b[0m \u001b[0mradius\u001b[0m\u001b[1;33m\u001b[0m\u001b[0m\n\u001b[1;32m---> 85\u001b[1;33m         \u001b[0mself\u001b[0m\u001b[1;33m.\u001b[0m\u001b[0mencoders\u001b[0m \u001b[1;33m=\u001b[0m \u001b[0mencoders\u001b[0m\u001b[1;33m\u001b[0m\u001b[0m\n\u001b[0m\u001b[0;32m     86\u001b[0m         \u001b[0mself\u001b[0m\u001b[1;33m.\u001b[0m\u001b[0mintercepts\u001b[0m \u001b[1;33m=\u001b[0m \u001b[0mintercepts\u001b[0m\u001b[1;33m\u001b[0m\u001b[0m\n\u001b[0;32m     87\u001b[0m         \u001b[0mself\u001b[0m\u001b[1;33m.\u001b[0m\u001b[0mmax_rates\u001b[0m \u001b[1;33m=\u001b[0m \u001b[0mmax_rates\u001b[0m\u001b[1;33m\u001b[0m\u001b[0m\n",
      "\u001b[1;32mC:\\Python27\\lib\\site-packages\\nengo\\base.pyc\u001b[0m in \u001b[0;36m__setattr__\u001b[1;34m(self, name, val)\u001b[0m\n\u001b[0;32m     61\u001b[0m             \u001b[0mval\u001b[0m \u001b[1;33m=\u001b[0m \u001b[0mConfig\u001b[0m\u001b[1;33m.\u001b[0m\u001b[0mdefault\u001b[0m\u001b[1;33m(\u001b[0m\u001b[0mtype\u001b[0m\u001b[1;33m(\u001b[0m\u001b[0mself\u001b[0m\u001b[1;33m)\u001b[0m\u001b[1;33m,\u001b[0m \u001b[0mname\u001b[0m\u001b[1;33m)\u001b[0m\u001b[1;33m\u001b[0m\u001b[0m\n\u001b[0;32m     62\u001b[0m         \u001b[1;32mtry\u001b[0m\u001b[1;33m:\u001b[0m\u001b[1;33m\u001b[0m\u001b[0m\n\u001b[1;32m---> 63\u001b[1;33m             \u001b[0msuper\u001b[0m\u001b[1;33m(\u001b[0m\u001b[0mNengoObject\u001b[0m\u001b[1;33m,\u001b[0m \u001b[0mself\u001b[0m\u001b[1;33m)\u001b[0m\u001b[1;33m.\u001b[0m\u001b[0m__setattr__\u001b[0m\u001b[1;33m(\u001b[0m\u001b[0mname\u001b[0m\u001b[1;33m,\u001b[0m \u001b[0mval\u001b[0m\u001b[1;33m)\u001b[0m\u001b[1;33m\u001b[0m\u001b[0m\n\u001b[0m\u001b[0;32m     64\u001b[0m         \u001b[1;32mexcept\u001b[0m \u001b[0mException\u001b[0m \u001b[1;32mas\u001b[0m \u001b[0me\u001b[0m\u001b[1;33m:\u001b[0m\u001b[1;33m\u001b[0m\u001b[0m\n\u001b[0;32m     65\u001b[0m             \u001b[0marg0\u001b[0m \u001b[1;33m=\u001b[0m \u001b[1;34m''\u001b[0m \u001b[1;32mif\u001b[0m \u001b[0mlen\u001b[0m\u001b[1;33m(\u001b[0m\u001b[0me\u001b[0m\u001b[1;33m.\u001b[0m\u001b[0margs\u001b[0m\u001b[1;33m)\u001b[0m \u001b[1;33m==\u001b[0m \u001b[1;36m0\u001b[0m \u001b[1;32melse\u001b[0m \u001b[0me\u001b[0m\u001b[1;33m.\u001b[0m\u001b[0margs\u001b[0m\u001b[1;33m[\u001b[0m\u001b[1;36m0\u001b[0m\u001b[1;33m]\u001b[0m\u001b[1;33m\u001b[0m\u001b[0m\n",
      "\u001b[1;32mC:\\Python27\\lib\\site-packages\\nengo\\params.pyc\u001b[0m in \u001b[0;36m__set__\u001b[1;34m(self, instance, ndarray)\u001b[0m\n\u001b[0;32m    168\u001b[0m         \u001b[0msuper\u001b[0m\u001b[1;33m(\u001b[0m\u001b[0mNdarrayParam\u001b[0m\u001b[1;33m,\u001b[0m \u001b[0mself\u001b[0m\u001b[1;33m)\u001b[0m\u001b[1;33m.\u001b[0m\u001b[0mvalidate\u001b[0m\u001b[1;33m(\u001b[0m\u001b[0minstance\u001b[0m\u001b[1;33m,\u001b[0m \u001b[0mndarray\u001b[0m\u001b[1;33m)\u001b[0m\u001b[1;33m\u001b[0m\u001b[0m\n\u001b[0;32m    169\u001b[0m         \u001b[1;32mif\u001b[0m \u001b[0mndarray\u001b[0m \u001b[1;32mis\u001b[0m \u001b[1;32mnot\u001b[0m \u001b[0mNone\u001b[0m\u001b[1;33m:\u001b[0m\u001b[1;33m\u001b[0m\u001b[0m\n\u001b[1;32m--> 170\u001b[1;33m             \u001b[0mndarray\u001b[0m \u001b[1;33m=\u001b[0m \u001b[0mself\u001b[0m\u001b[1;33m.\u001b[0m\u001b[0mvalidate\u001b[0m\u001b[1;33m(\u001b[0m\u001b[0minstance\u001b[0m\u001b[1;33m,\u001b[0m \u001b[0mndarray\u001b[0m\u001b[1;33m)\u001b[0m\u001b[1;33m\u001b[0m\u001b[0m\n\u001b[0m\u001b[0;32m    171\u001b[0m         \u001b[0mself\u001b[0m\u001b[1;33m.\u001b[0m\u001b[0mdata\u001b[0m\u001b[1;33m[\u001b[0m\u001b[0minstance\u001b[0m\u001b[1;33m]\u001b[0m \u001b[1;33m=\u001b[0m \u001b[0mndarray\u001b[0m\u001b[1;33m\u001b[0m\u001b[0m\n\u001b[0;32m    172\u001b[0m \u001b[1;33m\u001b[0m\u001b[0m\n",
      "\u001b[1;32mC:\\Python27\\lib\\site-packages\\nengo\\params.pyc\u001b[0m in \u001b[0;36mvalidate\u001b[1;34m(self, instance, dist)\u001b[0m\n\u001b[0;32m    211\u001b[0m     \u001b[1;32mdef\u001b[0m \u001b[0mvalidate\u001b[0m\u001b[1;33m(\u001b[0m\u001b[0mself\u001b[0m\u001b[1;33m,\u001b[0m \u001b[0minstance\u001b[0m\u001b[1;33m,\u001b[0m \u001b[0mdist\u001b[0m\u001b[1;33m)\u001b[0m\u001b[1;33m:\u001b[0m\u001b[1;33m\u001b[0m\u001b[0m\n\u001b[0;32m    212\u001b[0m         \u001b[1;32mif\u001b[0m \u001b[0mdist\u001b[0m \u001b[1;32mis\u001b[0m \u001b[1;32mnot\u001b[0m \u001b[0mNone\u001b[0m \u001b[1;32mand\u001b[0m \u001b[1;32mnot\u001b[0m \u001b[0misinstance\u001b[0m\u001b[1;33m(\u001b[0m\u001b[0mdist\u001b[0m\u001b[1;33m,\u001b[0m \u001b[0mDistribution\u001b[0m\u001b[1;33m)\u001b[0m\u001b[1;33m:\u001b[0m\u001b[1;33m\u001b[0m\u001b[0m\n\u001b[1;32m--> 213\u001b[1;33m             \u001b[0mdist\u001b[0m \u001b[1;33m=\u001b[0m \u001b[0msuper\u001b[0m\u001b[1;33m(\u001b[0m\u001b[0mDistributionParam\u001b[0m\u001b[1;33m,\u001b[0m \u001b[0mself\u001b[0m\u001b[1;33m)\u001b[0m\u001b[1;33m.\u001b[0m\u001b[0mvalidate\u001b[0m\u001b[1;33m(\u001b[0m\u001b[0minstance\u001b[0m\u001b[1;33m,\u001b[0m \u001b[0mdist\u001b[0m\u001b[1;33m)\u001b[0m\u001b[1;33m\u001b[0m\u001b[0m\n\u001b[0m\u001b[0;32m    214\u001b[0m         \u001b[1;32mreturn\u001b[0m \u001b[0mdist\u001b[0m\u001b[1;33m\u001b[0m\u001b[0m\n\u001b[0;32m    215\u001b[0m \u001b[1;33m\u001b[0m\u001b[0m\n",
      "\u001b[1;32mC:\\Python27\\lib\\site-packages\\nengo\\params.pyc\u001b[0m in \u001b[0;36mvalidate\u001b[1;34m(self, instance, ndarray)\u001b[0m\n\u001b[0;32m    197\u001b[0m             \u001b[1;32mif\u001b[0m \u001b[0mndarray\u001b[0m\u001b[1;33m.\u001b[0m\u001b[0mshape\u001b[0m\u001b[1;33m[\u001b[0m\u001b[0mi\u001b[0m\u001b[1;33m]\u001b[0m \u001b[1;33m!=\u001b[0m \u001b[0mdesired\u001b[0m\u001b[1;33m:\u001b[0m\u001b[1;33m\u001b[0m\u001b[0m\n\u001b[0;32m    198\u001b[0m                 raise ValueError(\"shape[%d] should be %d (got %d)\"\n\u001b[1;32m--> 199\u001b[1;33m                                  % (i, desired, ndarray.shape[i]))\n\u001b[0m\u001b[0;32m    200\u001b[0m         \u001b[1;32mreturn\u001b[0m \u001b[0mndarray\u001b[0m\u001b[1;33m\u001b[0m\u001b[0m\n\u001b[0;32m    201\u001b[0m \u001b[1;33m\u001b[0m\u001b[0m\n",
      "\u001b[1;31mValueError\u001b[0m: Validation error when setting 'Ensemble.encoders': shape[1] should be 785 (got 784)"
     ]
    }
   ],
   "source": [
    "#Sprite?\n",
    "with nengo.Network() as net:\n",
    "    \n",
    "    if direct:\n",
    "        neuron_type = nengo.Direct() #function computed explicitly, instead of in neurons\n",
    "    else:\n",
    "        neuron_type = nengo.LIF() #spiking version of the leaky integrate-and-fire neuron model\n",
    "\n",
    "    #Input stimulus - provide data to the ensemble\n",
    "    ipt = nengo.Node(stim_func)\n",
    "    \n",
    "    ipt2 = nengo.Node(stim_func_rot)\n",
    "    \n",
    "    #Group of neurons that collectively represent information(vector)\n",
    "    ens = nengo.Ensemble(n_neurons,\n",
    "                         dimensions=dim**2+1, #pixels of the image? 28*28\n",
    "                         encoders=expanded_basis, #transform representational space to neuron space\n",
    "                         eval_points=expanded_basis, #used for decoder solving, spanning interval\n",
    "                         n_eval_points=n_neurons,\n",
    "                         neuron_type=neuron_type)\n",
    "\n",
    "    nengo.Connection(ipt, #source nengo object\n",
    "                     ens[:-1], #destination object\n",
    "                     synapse=None, #pstc\n",
    "                     transform=1) #linear transformation, what does changing this do?\n",
    "    \n",
    "    nengo.Connection(ipt2,ens[-1],synapse=None,transform =1)\n",
    "    \n",
    "    '''Connection has param solver - (tried to make weight stronger, for image to last longer)\n",
    "    solver : Solver, optional (Default: nengo.solvers.LstsqL2())\n",
    "    Solver instance to compute decoders or weights (see Solver). If solver.weights is True, a full \n",
    "    connection weight matrix is computed instead of decoders.'''\n",
    "    #s = nengo.solvers.LstsqL2(weights=True)\n",
    "    \n",
    "    conn = nengo.Connection(ens, ens, synapse=conn_synapse,transform=1, function=connection_func)\n",
    "    \n",
    "    #delaynode = nengo.Node(node_func, size_in = dim**2, size_out =dim**2) #does processing on information\n",
    "    #conn = nengo.Connection(ens, delaynode, synapse=conn_synapse,transform =1) #incr transform, rotates faster\n",
    "    #conn2 = nengo.Connection(delaynode, ens, synapse=conn_synapse, transform =1)\n",
    "    \n",
    "    probe = nengo.Probe(ens, attr='decoded_output',#sample_every=0.001,\n",
    "                       synapse=probe_synapse)\n",
    "   "
   ]
  },
  {
   "cell_type": "code",
   "execution_count": 12,
   "metadata": {
    "collapsed": true
   },
   "outputs": [],
   "source": [
    "sim = nengo.Simulator(net)"
   ]
  },
  {
   "cell_type": "code",
   "execution_count": 13,
   "metadata": {
    "collapsed": false
   },
   "outputs": [
    {
     "name": "stdout",
     "output_type": "stream",
     "text": [
      "Simulation finished in 0:00:04.                                                 \n"
     ]
    }
   ],
   "source": [
    "sim.run(run_time)"
   ]
  },
  {
   "cell_type": "code",
   "execution_count": 14,
   "metadata": {
    "collapsed": false
   },
   "outputs": [
    {
     "data": {
      "text/plain": [
       "<matplotlib.image.AxesImage at 0x272fd8d0>"
      ]
     },
     "execution_count": 14,
     "metadata": {},
     "output_type": "execute_result"
    }
   ],
   "source": [
    "pylab.imshow(np.reshape(img, (dim,dim), 'F'), cmap='Greys_r')"
   ]
  },
  {
   "cell_type": "code",
   "execution_count": 15,
   "metadata": {
    "collapsed": false
   },
   "outputs": [
    {
     "data": {
      "text/plain": [
       "<matplotlib.image.AxesImage at 0x3bbc400>"
      ]
     },
     "execution_count": 15,
     "metadata": {},
     "output_type": "execute_result"
    }
   ],
   "source": [
    "'''Image at stop time'''\n",
    "pylab.imshow(np.reshape([0. if x < 0.00001 else x for x in sim.data[probe][int(stop_time*1000)-1]], \n",
    "                             (dim, dim), 'F'), cmap=plt.get_cmap('Greys_r'),animated=True)"
   ]
  },
  {
   "cell_type": "code",
   "execution_count": 16,
   "metadata": {
    "collapsed": false
   },
   "outputs": [
    {
     "data": {
      "text/plain": [
       "<matplotlib.image.AxesImage at 0xabb7080>"
      ]
     },
     "execution_count": 16,
     "metadata": {},
     "output_type": "execute_result"
    }
   ],
   "source": [
    "'''Image at start time'''\n",
    "pylab.imshow(np.reshape([0. if x < 0.00001 else x for x in sim.data[probe][1]], \n",
    "                             (dim, dim), 'F'), cmap=plt.get_cmap('Greys_r'),animated=True)"
   ]
  },
  {
   "cell_type": "code",
   "execution_count": 17,
   "metadata": {
    "collapsed": false
   },
   "outputs": [
    {
     "name": "stderr",
     "output_type": "stream",
     "text": [
      "Exception in Tkinter callback\n",
      "Traceback (most recent call last):\n",
      "  File \"C:\\Python27\\lib\\lib-tk\\Tkinter.py\", line 1536, in __call__\n",
      "    return self.func(*args)\n",
      "  File \"C:\\Python27\\lib\\lib-tk\\Tkinter.py\", line 587, in callit\n",
      "    func(*args)\n",
      "  File \"C:\\Python27\\lib\\site-packages\\matplotlib\\backends\\backend_tkagg.py\", line 147, in _on_timer\n",
      "    TimerBase._on_timer(self)\n",
      "  File \"C:\\Python27\\lib\\site-packages\\matplotlib\\backend_bases.py\", line 1305, in _on_timer\n",
      "    ret = func(*args, **kwargs)\n",
      "  File \"C:\\Python27\\lib\\site-packages\\matplotlib\\animation.py\", line 1021, in _step\n",
      "    still_going = Animation._step(self, *args)\n",
      "  File \"C:\\Python27\\lib\\site-packages\\matplotlib\\animation.py\", line 827, in _step\n",
      "    self._draw_next_frame(framedata, self._blit)\n",
      "  File \"C:\\Python27\\lib\\site-packages\\matplotlib\\animation.py\", line 845, in _draw_next_frame\n",
      "    self._pre_draw(framedata, blit)\n",
      "  File \"C:\\Python27\\lib\\site-packages\\matplotlib\\animation.py\", line 858, in _pre_draw\n",
      "    self._blit_clear(self._drawn_artists, self._blit_cache)\n",
      "  File \"C:\\Python27\\lib\\site-packages\\matplotlib\\animation.py\", line 898, in _blit_clear\n",
      "    a.figure.canvas.restore_region(bg_cache[a])\n",
      "KeyError: <matplotlib.axes._subplots.AxesSubplot object at 0x0000000027343E48>\n"
     ]
    }
   ],
   "source": [
    "'''Animation for Probe output'''\n",
    "fig = plt.figure()\n",
    "\n",
    "def updatefig(i):\n",
    "    im = pylab.imshow(np.reshape([0. if x < 0.00001 else x for x in sim.data[probe][i]],\n",
    "                                 (dim, dim), 'F'), cmap=plt.get_cmap('Greys_r'),animated=True)\n",
    "    \n",
    "    return im,\n",
    "\n",
    "ani = animation.FuncAnimation(fig, updatefig, interval=1, blit=True)\n",
    "plt.show()\n"
   ]
  }
 ],
 "metadata": {
  "kernelspec": {
   "display_name": "Python 2",
   "language": "python",
   "name": "python2"
  },
  "language_info": {
   "codemirror_mode": {
    "name": "ipython",
    "version": 2
   },
   "file_extension": ".py",
   "mimetype": "text/x-python",
   "name": "python",
   "nbconvert_exporter": "python",
   "pygments_lexer": "ipython2",
   "version": "2.7.11"
  }
 },
 "nbformat": 4,
 "nbformat_minor": 0
}
