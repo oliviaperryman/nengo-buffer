{
 "cells": [
  {
   "cell_type": "code",
   "execution_count": 2,
   "metadata": {
    "collapsed": false
   },
   "outputs": [],
   "source": [
    "from matplotlib import pylab\n",
    "import nengo\n",
    "import random\n",
    "import numpy as np\n",
    "import gzip as gz\n",
    "from cPickle import load\n",
    "try:\n",
    "    import Image\n",
    "except ImportError:\n",
    "    from PIL import Image\n",
    "from scipy.sparse.linalg import svds\n",
    "import scipy\n",
    "from scipy import ndimage\n",
    "import matplotlib.pyplot as plt\n",
    "import matplotlib.animation as animation\n",
    "\n",
    "#%matplotlib inline #Makes visualizations appar inline (Commented out because animation popup as new window)"
   ]
  },
  {
   "cell_type": "code",
   "execution_count": 3,
   "metadata": {
    "collapsed": true
   },
   "outputs": [],
   "source": [
    "def load_img(path, dims):\n",
    "    \"\"\"Load the image at path and return an array representing the raster.\n",
    "    Flattens image. Shifts pixel activations such that 0 represents gray,\n",
    "    normalizes the output array.\n",
    "    Keyword arguments:\n",
    "    path -- str, path of the image to be loaded.\n",
    "    dims -- (w, h), where w,h are ints indicating dimensions of the image (in\n",
    "        px).\"\"\"\n",
    "\n",
    "    img = Image.open(path).resize(dims).getdata()\n",
    "    img.convert('L')\n",
    "    img = subtract(array(img).flatten(), 127.5)\n",
    "    return img/norm(img)\n",
    "\n",
    "\n",
    "def load_data(filename):\n",
    "    \"\"\"Uncompress, unpickle and return a .pkl.gz file.\n",
    "    Keyword arguments:\n",
    "    filename -- str, a valid file path\"\"\"\n",
    "\n",
    "    return load(gz.open(filename))\n",
    "\n",
    "def load_mini_mnist(option=None):\n",
    "    \"\"\"Load and return the first \\%10 of the images in the mnist dataset.\n",
    "    Does not return labels. Pass in 'train', 'valid' or 'test' if you want to\n",
    "    load a specific subset of the dataset.\n",
    "    Keyword arguments:\n",
    "    option -- str (default=None).\"\"\"\n",
    "\n",
    "    mini_mnist = load(gz.open('./mini_mnist.pkl.gz', 'rb'))\n",
    "    if option == 'train':\n",
    "        return mini_mnist[0]\n",
    "    elif option == 'valid':\n",
    "        return mini_mnist[1]\n",
    "    elif option == 'test':\n",
    "        return mini_mnist[2]\n",
    "    else:\n",
    "        return mini_mnist"
   ]
  },
  {
   "cell_type": "code",
   "execution_count": 4,
   "metadata": {
    "collapsed": false
   },
   "outputs": [],
   "source": [
    "def rotate_img(img, degrees):\n",
    "    '''Rotates image the degrees passed in counterclockwise\n",
    "    Reshapes image to original shape\n",
    "    '''\n",
    "    original = img.shape\n",
    "    \n",
    "    newImg = scipy.ndimage.interpolation.rotate(np.reshape(img, (dim,dim), 'F'),degrees,reshape=False)\n",
    "    newImg = np.reshape(newImg, original, 'F')\n",
    "    return newImg"
   ]
  },
  {
   "cell_type": "code",
   "execution_count": 5,
   "metadata": {
    "collapsed": true
   },
   "outputs": [],
   "source": [
    "conn_synapse = 0.1 #post synaptic time constant to use for filtering (pstc) - what does changing this do?\n",
    "probe_synapse = 0.01 #pstc\n",
    "multiplier = 2 #not used\n",
    "n_neurons = 5000\n",
    "direct = True #Direct - function computed explicitly instead of in neurons \n",
    "stop_time = 3.0\n",
    "run_time = 3.0 #in seconds"
   ]
  },
  {
   "cell_type": "code",
   "execution_count": 6,
   "metadata": {
    "collapsed": false
   },
   "outputs": [],
   "source": [
    "dim = 28 #size of the image\n",
    "mnist = load_mini_mnist()\n",
    "train = mnist[0] #collection of training images\n",
    "img = mnist[1][0] #image to be used for testing\n",
    "compress_size = 400 #?\n",
    "basis, S, V = svds(train.T, k=compress_size) #Used for encoding and decoding information \n",
    "    #a set of vectors representing what a hand drawn number should look like?"
   ]
  },
  {
   "cell_type": "code",
   "execution_count": 7,
   "metadata": {
    "collapsed": false
   },
   "outputs": [],
   "source": [
    "#Need same number of vectors in basis as number of neurons (randomly sample from basis)\n",
    "expanded_basis = np.array([random.choice(basis.T) for _ in range(n_neurons)]) "
   ]
  },
  {
   "cell_type": "code",
   "execution_count": 8,
   "metadata": {
    "collapsed": true
   },
   "outputs": [],
   "source": [
    "def stim_func(t):\n",
    "    '''returns the image for first 0.1s'''\n",
    "    if t < 0.1:\n",
    "        return img\n",
    "    else:\n",
    "        return [0 for _ in range(len(img))]"
   ]
  },
  {
   "cell_type": "code",
   "execution_count": 9,
   "metadata": {
    "collapsed": true
   },
   "outputs": [],
   "source": [
    "def connection_func(x):\n",
    "    '''takes the output from the first ensemble and rotates it 1 degree'''\n",
    "    return rotate_img(x,1)\n",
    "    #return rotate_img(x,10) - (x)"
   ]
  },
  {
   "cell_type": "code",
   "execution_count": 10,
   "metadata": {
    "collapsed": true
   },
   "outputs": [],
   "source": [
    "# Interference from stimulus when trying to rotate, so tried to delay rotation function\n",
    "\n",
    "def node_func(t,x):\n",
    "    '''takes the output from the first ensemble and rotates it 1 degrees'''\n",
    "    if t < 0.1:\n",
    "        return x\n",
    "    else:\n",
    "        #return rotate_img(x,10) - (x*0.1)\n",
    "        return rotate_img(x,1)"
   ]
  },
  {
   "cell_type": "code",
   "execution_count": 11,
   "metadata": {
    "collapsed": false
   },
   "outputs": [],
   "source": [
    "with nengo.Network() as net:\n",
    "    \n",
    "    if direct:\n",
    "        neuron_type = nengo.Direct() #function computed explicitly, instead of in neurons\n",
    "    else:\n",
    "        neuron_type = nengo.LIF() #spiking version of the leaky integrate-and-fire neuron model\n",
    "\n",
    "    #Input stimulus - provide data to the ensemble\n",
    "    ipt = nengo.Node(stim_func)\n",
    "    \n",
    "    #Group of neurons that collectively represent information(vector)\n",
    "    ens = nengo.Ensemble(n_neurons,\n",
    "                         dimensions=dim**2, #pixels of the image? 28*28\n",
    "                         encoders=expanded_basis, #transform representational space to neuron space\n",
    "                         eval_points=expanded_basis, #used for decoder solving, spanning interval\n",
    "                         n_eval_points=n_neurons,\n",
    "                         neuron_type=neuron_type)\n",
    "\n",
    "    nengo.Connection(ipt, #source nengo object\n",
    "                     ens, #destination object\n",
    "                     synapse=None, #pstc\n",
    "                     transform=1) #linear transformation, what does changing this do?\n",
    "    \n",
    "    '''Connection has param solver - (tried to make weight stronger, for image to last longer)\n",
    "    solver : Solver, optional (Default: nengo.solvers.LstsqL2())\n",
    "    Solver instance to compute decoders or weights (see Solver). If solver.weights is True, a full \n",
    "    connection weight matrix is computed instead of decoders.'''\n",
    "    #s = nengo.solvers.LstsqL2(weights=True)\n",
    "    \n",
    "    conn = nengo.Connection(ens, ens, synapse=conn_synapse,transform=6, function=connection_func)\n",
    "    \n",
    "    #delaynode = nengo.Node(node_func, size_in = dim**2, size_out =dim**2) #does processing on information\n",
    "    #conn = nengo.Connection(ens, delaynode, synapse=conn_synapse,transform =1) #incr transform, rotates faster\n",
    "    #conn2 = nengo.Connection(delaynode, ens, synapse=conn_synapse, transform =1)\n",
    "    \n",
    "    probe = nengo.Probe(ens, attr='decoded_output',#sample_every=0.001,\n",
    "                       synapse=probe_synapse)\n",
    "   "
   ]
  },
  {
   "cell_type": "code",
   "execution_count": 12,
   "metadata": {
    "collapsed": true
   },
   "outputs": [],
   "source": [
    "sim = nengo.Simulator(net)"
   ]
  },
  {
   "cell_type": "code",
   "execution_count": 13,
   "metadata": {
    "collapsed": false
   },
   "outputs": [
    {
     "name": "stdout",
     "output_type": "stream",
     "text": [
      "Simulation finished in 0:00:04.                                                 \n"
     ]
    }
   ],
   "source": [
    "sim.run(run_time)"
   ]
  },
  {
   "cell_type": "code",
   "execution_count": 14,
   "metadata": {
    "collapsed": false
   },
   "outputs": [
    {
     "data": {
      "text/plain": [
       "<matplotlib.image.AxesImage at 0x272fd8d0>"
      ]
     },
     "execution_count": 14,
     "metadata": {},
     "output_type": "execute_result"
    }
   ],
   "source": [
    "pylab.imshow(np.reshape(img, (dim,dim), 'F'), cmap='Greys_r')"
   ]
  },
  {
   "cell_type": "code",
   "execution_count": 15,
   "metadata": {
    "collapsed": false
   },
   "outputs": [
    {
     "data": {
      "text/plain": [
       "<matplotlib.image.AxesImage at 0x3bbc400>"
      ]
     },
     "execution_count": 15,
     "metadata": {},
     "output_type": "execute_result"
    }
   ],
   "source": [
    "'''Image at stop time'''\n",
    "pylab.imshow(np.reshape([0. if x < 0.00001 else x for x in sim.data[probe][int(stop_time*1000)-1]], \n",
    "                             (dim, dim), 'F'), cmap=plt.get_cmap('Greys_r'),animated=True)"
   ]
  },
  {
   "cell_type": "code",
   "execution_count": 16,
   "metadata": {
    "collapsed": false
   },
   "outputs": [
    {
     "data": {
      "text/plain": [
       "<matplotlib.image.AxesImage at 0xabb7080>"
      ]
     },
     "execution_count": 16,
     "metadata": {},
     "output_type": "execute_result"
    }
   ],
   "source": [
    "'''Image at start time'''\n",
    "pylab.imshow(np.reshape([0. if x < 0.00001 else x for x in sim.data[probe][1]], \n",
    "                             (dim, dim), 'F'), cmap=plt.get_cmap('Greys_r'),animated=True)"
   ]
  },
  {
   "cell_type": "code",
   "execution_count": 17,
   "metadata": {
    "collapsed": false
   },
   "outputs": [
    {
     "name": "stderr",
     "output_type": "stream",
     "text": [
      "Exception in Tkinter callback\n",
      "Traceback (most recent call last):\n",
      "  File \"C:\\Python27\\lib\\lib-tk\\Tkinter.py\", line 1536, in __call__\n",
      "    return self.func(*args)\n",
      "  File \"C:\\Python27\\lib\\lib-tk\\Tkinter.py\", line 587, in callit\n",
      "    func(*args)\n",
      "  File \"C:\\Python27\\lib\\site-packages\\matplotlib\\backends\\backend_tkagg.py\", line 147, in _on_timer\n",
      "    TimerBase._on_timer(self)\n",
      "  File \"C:\\Python27\\lib\\site-packages\\matplotlib\\backend_bases.py\", line 1305, in _on_timer\n",
      "    ret = func(*args, **kwargs)\n",
      "  File \"C:\\Python27\\lib\\site-packages\\matplotlib\\animation.py\", line 1021, in _step\n",
      "    still_going = Animation._step(self, *args)\n",
      "  File \"C:\\Python27\\lib\\site-packages\\matplotlib\\animation.py\", line 827, in _step\n",
      "    self._draw_next_frame(framedata, self._blit)\n",
      "  File \"C:\\Python27\\lib\\site-packages\\matplotlib\\animation.py\", line 845, in _draw_next_frame\n",
      "    self._pre_draw(framedata, blit)\n",
      "  File \"C:\\Python27\\lib\\site-packages\\matplotlib\\animation.py\", line 858, in _pre_draw\n",
      "    self._blit_clear(self._drawn_artists, self._blit_cache)\n",
      "  File \"C:\\Python27\\lib\\site-packages\\matplotlib\\animation.py\", line 898, in _blit_clear\n",
      "    a.figure.canvas.restore_region(bg_cache[a])\n",
      "KeyError: <matplotlib.axes._subplots.AxesSubplot object at 0x0000000027343E48>\n"
     ]
    }
   ],
   "source": [
    "'''Animation for Probe output'''\n",
    "fig = plt.figure()\n",
    "\n",
    "def updatefig(i):\n",
    "    im = pylab.imshow(np.reshape([0. if x < 0.00001 else x for x in sim.data[probe][i]],\n",
    "                                 (dim, dim), 'F'), cmap=plt.get_cmap('Greys_r'),animated=True)\n",
    "    \n",
    "    return im,\n",
    "\n",
    "ani = animation.FuncAnimation(fig, updatefig, interval=1, blit=True)\n",
    "plt.show()\n"
   ]
  }
 ],
 "metadata": {
  "kernelspec": {
   "display_name": "Python 2",
   "language": "python",
   "name": "python2"
  },
  "language_info": {
   "codemirror_mode": {
    "name": "ipython",
    "version": 2
   },
   "file_extension": ".py",
   "mimetype": "text/x-python",
   "name": "python",
   "nbconvert_exporter": "python",
   "pygments_lexer": "ipython2",
   "version": "2.7.11"
  }
 },
 "nbformat": 4,
 "nbformat_minor": 0
}
