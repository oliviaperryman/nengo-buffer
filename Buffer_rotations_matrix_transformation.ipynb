{
 "cells": [
  {
   "cell_type": "code",
   "execution_count": 1,
   "metadata": {
    "collapsed": false
   },
   "outputs": [],
   "source": [
    "from matplotlib import pylab\n",
    "import nengo\n",
    "import random\n",
    "import numpy as np\n",
    "import gzip as gz\n",
    "import cPickle\n",
    "from cPickle import load\n",
    "try:\n",
    "    import Image\n",
    "except ImportError:\n",
    "    from PIL import Image\n",
    "from scipy.sparse.linalg import svds\n",
    "import scipy\n",
    "from scipy import ndimage\n",
    "import matplotlib.pyplot as plt\n",
    "import matplotlib.animation as animation\n",
    "from nengo.utils.compat import is_iterable\n",
    "import collections\n",
    "\n",
    "#%matplotlib inline #Makes visualizations appar inline (Commented out because animation popup as new window)"
   ]
  },
  {
   "cell_type": "code",
   "execution_count": 2,
   "metadata": {
    "collapsed": true
   },
   "outputs": [],
   "source": [
    "#The code in this cell is for reading the images from the MNIST database and not part of the brain model.\n",
    "def load_img(path, dims):\n",
    "    \"\"\"Load the image at path and return an array representing the raster.\n",
    "    Flattens image. Shifts pixel activations such that 0 represents gray,\n",
    "    normalizes the output array.\n",
    "    Keyword arguments:\n",
    "    path -- str, path of the image to be loaded.\n",
    "    dims -- (w, h), where w,h are ints indicating dimensions of the image (in\n",
    "        px).\"\"\"\n",
    "\n",
    "    img = Image.open(path).resize(dims).getdata()\n",
    "    img.convert('L')\n",
    "    img = subtract(array(img).flatten(), 127.5)\n",
    "    return img/norm(img)\n",
    "\n",
    "\n",
    "def load_data(filename):\n",
    "    \"\"\"Uncompress, unpickle and return a .pkl.gz file.\n",
    "    Keyword arguments:\n",
    "    filename -- str, a valid file path\"\"\"\n",
    "\n",
    "    return load(gz.open(filename))\n",
    "\n",
    "def load_mini_mnist(option=None):\n",
    "    \"\"\"Load and return the first \\%10 of the images in the mnist dataset.\n",
    "    Does not return labels. Pass in 'train', 'valid' or 'test' if you want to\n",
    "    load a specific subset of the dataset.\n",
    "    Keyword arguments:\n",
    "    option -- str (default=None).\"\"\"\n",
    "\n",
    "    mini_mnist = load(gz.open('./mini_mnist.pkl.gz', 'rb'))\n",
    "    if option == 'train':\n",
    "        return mini_mnist[0]\n",
    "    elif option == 'valid':\n",
    "        return mini_mnist[1]\n",
    "    elif option == 'test':\n",
    "        return mini_mnist[2]\n",
    "    else:\n",
    "        return mini_mnist"
   ]
  },
  {
   "cell_type": "code",
   "execution_count": 3,
   "metadata": {
    "collapsed": false
   },
   "outputs": [],
   "source": [
    "#NOT USED\n",
    "\n",
    "def rotate_img(img, degrees):\n",
    "    '''\n",
    "    img is the dim**2 by 1 vector representing the pixel values.\n",
    "    Rotates image the degrees passed in counterclockwise\n",
    "    Returns the Reshaped image (to original shape which is the one dimensional vector)\n",
    "    dim is a global variable\n",
    "    '''\n",
    "    original = img.shape\n",
    "    newImg = scipy.ndimage.interpolation.rotate(np.reshape(img, (dim,dim), 'F'),degrees,reshape=False)\n",
    "    newImg = np.reshape(newImg, original, 'F')\n",
    "    return newImg"
   ]
  },
  {
   "cell_type": "code",
   "execution_count": 71,
   "metadata": {
    "collapsed": true
   },
   "outputs": [],
   "source": [
    "conn_synapse = 0.1 #post synaptic time constant to use for filtering (pstc) - what does changing this do?\n",
    "probe_synapse = 0.01 #pstc\n",
    "#multiplier = 2 #not used\n",
    "n_neurons = 5000\n",
    "direct = False #Direct - function computed explicitly instead of in neurons \n",
    "stop_time = 3.0\n",
    "run_time = 3.0 #in seconds"
   ]
  },
  {
   "cell_type": "code",
   "execution_count": 4,
   "metadata": {
    "collapsed": false
   },
   "outputs": [],
   "source": [
    "dim = 28 #size of the image\n",
    "mnist = load_mini_mnist()\n",
    "#train = mnist[0] #collection of training images\n",
    "img = mnist[1][0] #image to be used for testing\n",
    "#compress_size = 400 #?\n",
    "#basis, S, V = svds(train.T, k=compress_size) #Used for encoding and decoding information \n",
    "    #a set of vectors representing what a hand drawn number should look like?"
   ]
  },
  {
   "cell_type": "code",
   "execution_count": 6,
   "metadata": {
    "collapsed": false
   },
   "outputs": [],
   "source": [
    "#Need same number of vectors in basis as number of neurons (randomly sample from basis)\n",
    "#expanded_basis = np.array([random.choice(basis.T) for _ in range(n_neurons)]) "
   ]
  },
  {
   "cell_type": "code",
   "execution_count": 5,
   "metadata": {
    "collapsed": true
   },
   "outputs": [],
   "source": [
    "def stim_func(t):\n",
    "    '''returns the image for first 0.1s'''\n",
    "    if t < 0.01:\n",
    "        return img\n",
    "    else:\n",
    "        return [0 for _ in range(len(img))]"
   ]
  },
  {
   "cell_type": "code",
   "execution_count": 8,
   "metadata": {
    "collapsed": true
   },
   "outputs": [],
   "source": [
    "def connection_func(x):\n",
    "    '''takes the output from the first ensemble and rotates it 1 degree'''\n",
    "    return rotate_img(x,1)"
   ]
  },
  {
   "cell_type": "code",
   "execution_count": 74,
   "metadata": {
    "collapsed": false
   },
   "outputs": [
    {
     "name": "stdout",
     "output_type": "stream",
     "text": [
      "(784L, 784L)\n"
     ]
    }
   ],
   "source": [
    "#Courtesy of Terry and Mike\n",
    "original = np.random.random((28, 28))\n",
    "\n",
    "flat = original.flatten()\n",
    "\n",
    "\n",
    "def get_transform(width, height, angle, offset_x, offset_y):\n",
    "    transform = np.zeros((width*height, width*height))\n",
    "    for i in range(width):\n",
    "        for j in range(height):\n",
    "            ii = (i-offset_x)*np.cos(angle) - (j-offset_y)*np.sin(angle)\n",
    "            jj = (i-offset_x)*np.sin(angle) + (j-offset_y)*np.cos(angle)\n",
    "            \n",
    "            iii = int(ii+offset_x)\n",
    "            jjj = int(jj+offset_y)\n",
    "            \n",
    "            x2 = (ii+offset_x) - iii\n",
    "            y2 = (jj+offset_y) - jjj\n",
    "            x1 = 1-x2\n",
    "            y1 = 1-y2\n",
    "            \n",
    "            amount = np.array([x1*y1, x1*y2, x2*y2, x2*y1])\n",
    "            amount /= np.sum(amount)\n",
    "            \n",
    "            \n",
    "            if 0 <=iii <width and 0<=jjj<height:        \n",
    "                transform[i+width*j, iii+width*jjj] += amount[0]\n",
    "                if jjj+1 < height:\n",
    "                    transform[i+width*j, iii+width*(jjj+1)] += amount[1]\n",
    "                    if iii+1 < width:\n",
    "                        transform[i+width*j, iii+1+width*(jjj+1)] += amount[2]\n",
    "                if iii+1 < width:\n",
    "                    transform[i+width*j, iii+1+width*jjj] += amount[3]\n",
    "    return transform\n",
    "\n",
    "t = get_transform(dim, dim, np.pi/180, 14, 14)\n",
    "\n",
    "print(t.shape)\n"
   ]
  },
  {
   "cell_type": "code",
   "execution_count": 75,
   "metadata": {
    "collapsed": false
   },
   "outputs": [
    {
     "name": "stdout",
     "output_type": "stream",
     "text": [
      "(784L,)\n"
     ]
    }
   ],
   "source": [
    "test_in = img\n",
    "print(test_in.shape)\n",
    "test_out = np.dot(t, test_in)\n",
    "\n",
    "#for _ in range(10):\n",
    "#    test_out = np.dot(t, test_out)\n",
    "#    pylab.imshow(np.reshape(test_out, (dim,dim), 'F'), cmap='Greys_r')\n",
    "#    plt.show()"
   ]
  },
  {
   "cell_type": "code",
   "execution_count": 76,
   "metadata": {
    "collapsed": false
   },
   "outputs": [],
   "source": [
    "#A network is primarily used for grouping together related objects and connections for visualization purposes\n",
    "with nengo.Network() as net:\n",
    "    \n",
    "    if direct:\n",
    "        neuron_type = nengo.Direct() #function computed explicitly, instead of in neurons\n",
    "    else:\n",
    "        neuron_type = nengo.LIF() #spiking version of the leaky integrate-and-fire neuron model\n",
    "\n",
    "    #Input stimulus - provide data to the ensemble\n",
    "    ipt = nengo.Node(stim_func)\n",
    "    \n",
    "    '''An array of ensembles. This acts, in some ways, like a single high-dimensional ensemble,\n",
    "    but actually consists of many sub-ensembles, each one representing a separate dimension. \n",
    "    This tends to be much faster to create and can be more accurate than having one huge \n",
    "    high-dimensional ensemble. However, since the neurons represent different dimensions separately,\n",
    "    we cannot compute nonlinear interactions between those dimensions.'''\n",
    "    ensArr = nengo.networks.EnsembleArray(100, dim**2, ens_dimensions=1,neuron_type=neuron_type)\n",
    "    #incresing num neurons has smaller effect on run time\n",
    "    \n",
    "    #Connect each pixel of the input to its own ensemble\n",
    "    nengo.Connection(ipt,ensArr.input)\n",
    "    \n",
    "    '''When connecting nodes, threw error: \n",
    "    Validation error when setting 'Connection.function_info': Cannot apply functions to passthrough nodes\n",
    "    This is a workaround (https://github.com/nengo/nengo/issues/805)'''\n",
    "    #ensArr.output.output=lambda t, x: x\n",
    "\n",
    "    #ensArr.add_output('rotate_output', lambda x: rotate_img(x,1))\n",
    "    #a.add_output('square', lambda x: x**2)\n",
    "    \n",
    "    ensArr.add_output('rotate_output', None)\n",
    "    \n",
    "    #ensArr.rotate_output.output = t\n",
    "    \n",
    "    #print(len(ensArr.rotate_output))\n",
    "    \n",
    "    #n = nengo.Node(comb_func,size_in = (28**2)**2, size_out=28**2)\n",
    "    \n",
    "    #nengo.Connection(ensArr.rotate_output,n)\n",
    "    \n",
    "    nengo.Connection(ensArr.rotate_output,ensArr.input, transform = t)\n",
    "    \n",
    "\n",
    "    #Gathering output of ensArr\n",
    "    probe = nengo.Probe(ensArr.output,# attr='decoded_output',#sample_every=0.001,\n",
    "                       synapse=probe_synapse)\n",
    "        \n",
    "\n",
    "\n",
    "   "
   ]
  },
  {
   "cell_type": "code",
   "execution_count": 77,
   "metadata": {
    "collapsed": false
   },
   "outputs": [],
   "source": [
    "sim = nengo.Simulator(net) "
   ]
  },
  {
   "cell_type": "code",
   "execution_count": 78,
   "metadata": {
    "collapsed": false
   },
   "outputs": [
    {
     "name": "stdout",
     "output_type": "stream",
     "text": [
      "Simulation finished in 0:03:16.                                                 \n"
     ]
    }
   ],
   "source": [
    "sim.run(run_time) "
   ]
  },
  {
   "cell_type": "code",
   "execution_count": null,
   "metadata": {
    "collapsed": false
   },
   "outputs": [],
   "source": [
    "#Original image\n",
    "pylab.imshow(np.reshape(img, (dim,dim), 'F'), cmap='Greys_r')"
   ]
  },
  {
   "cell_type": "code",
   "execution_count": null,
   "metadata": {
    "collapsed": false
   },
   "outputs": [],
   "source": [
    "'''Image at stop time'''\n",
    "pylab.imshow(np.reshape([0. if x < 0.00001 else x for x in sim.data[probe][int(stop_time*1000)-1]], \n",
    "                             (dim, dim), 'F'), cmap=plt.get_cmap('Greys_r'),animated=True)"
   ]
  },
  {
   "cell_type": "code",
   "execution_count": null,
   "metadata": {
    "collapsed": false
   },
   "outputs": [],
   "source": [
    "'''Image at start time'''\n",
    "pylab.imshow(np.reshape([0. if x < 0.00001 else x for x in sim.data[probe][1]], \n",
    "                             (dim, dim), 'F'), cmap=plt.get_cmap('Greys_r'),animated=True)"
   ]
  },
  {
   "cell_type": "code",
   "execution_count": 79,
   "metadata": {
    "collapsed": false
   },
   "outputs": [],
   "source": [
    "'''Animation for Probe output'''\n",
    "fig = plt.figure()\n",
    "\n",
    "def updatefig(i):\n",
    "    im = pylab.imshow(np.reshape([0. if x < 0.00001 else x for x in sim.data[probe][i]],\n",
    "                                 (dim, dim), 'F'), cmap=plt.get_cmap('Greys_r'),animated=True)\n",
    "    \n",
    "    return im,\n",
    "\n",
    "ani = animation.FuncAnimation(fig, updatefig, interval=1, blit=True)\n",
    "plt.show()\n"
   ]
  },
  {
   "cell_type": "code",
   "execution_count": null,
   "metadata": {
    "collapsed": false
   },
   "outputs": [],
   "source": [
    "# save the output\n",
    "#cPickle.dump(sim.data[probe], open( \"Buffer_rotations_in_connection_ensemble_array_direct.p\", \"wb\" ) )\n",
    "#cPickle.dump(sim.data[probe], open( \"Buffer_rotations_in_connection_ensemble_array_LIF_100_stim0.01.p\", \"wb\" ) )"
   ]
  }
 ],
 "metadata": {
  "kernelspec": {
   "display_name": "Python 2",
   "language": "python",
   "name": "python2"
  },
  "language_info": {
   "codemirror_mode": {
    "name": "ipython",
    "version": 2
   },
   "file_extension": ".py",
   "mimetype": "text/x-python",
   "name": "python",
   "nbconvert_exporter": "python",
   "pygments_lexer": "ipython2",
   "version": "2.7.11"
  }
 },
 "nbformat": 4,
 "nbformat_minor": 0
}
