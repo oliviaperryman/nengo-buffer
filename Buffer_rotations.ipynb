{
 "cells": [
  {
   "cell_type": "code",
   "execution_count": 20,
   "metadata": {
    "collapsed": false
   },
   "outputs": [],
   "source": [
    "from matplotlib import pylab\n",
    "import nengo\n",
    "import random\n",
    "import numpy as np\n",
    "import gzip as gz\n",
    "from cPickle import load\n",
    "try:\n",
    "    import Image\n",
    "except ImportError:\n",
    "    from PIL import Image\n",
    "from scipy.sparse.linalg import svds\n",
    "import scipy\n",
    "from scipy import ndimage\n",
    "import matplotlib.pyplot as plt\n",
    "import matplotlib.animation as animation\n",
    "\n",
    "#%matplotlib inline #Want animation to popup as new window"
   ]
  },
  {
   "cell_type": "code",
   "execution_count": 21,
   "metadata": {
    "collapsed": true
   },
   "outputs": [],
   "source": [
    "def load_img(path, dims):\n",
    "    \"\"\"Load the image at path and return an array representing the raster.\n",
    "    Flattens image. Shifts pixel activations such that 0 represents gray,\n",
    "    normalizes the output array.\n",
    "    Keyword arguments:\n",
    "    path -- str, path of the image to be loaded.\n",
    "    dims -- (w, h), where w,h are ints indicating dimensions of the image (in\n",
    "        px).\"\"\"\n",
    "\n",
    "    img = Image.open(path).resize(dims).getdata()\n",
    "    img.convert('L')\n",
    "    img = subtract(array(img).flatten(), 127.5)\n",
    "    return img/norm(img)\n",
    "\n",
    "\n",
    "def load_data(filename):\n",
    "    \"\"\"Uncompress, unpickle and return a .pkl.gz file.\n",
    "    Keyword arguments:\n",
    "    filename -- str, a valid file path\"\"\"\n",
    "\n",
    "    return load(gz.open(filename))\n",
    "\n",
    "def load_mini_mnist(option=None):\n",
    "    \"\"\"Load and return the first \\%10 of the images in the mnist dataset.\n",
    "    Does not return labels. Pass in 'train', 'valid' or 'test' if you want to\n",
    "    load a specific subset of the dataset.\n",
    "    Keyword arguments:\n",
    "    option -- str (default=None).\"\"\"\n",
    "\n",
    "    mini_mnist = load(gz.open('./mini_mnist.pkl.gz', 'rb'))\n",
    "    if option == 'train':\n",
    "        return mini_mnist[0]\n",
    "    elif option == 'valid':\n",
    "        return mini_mnist[1]\n",
    "    elif option == 'test':\n",
    "        return mini_mnist[2]\n",
    "    else:\n",
    "        return mini_mnist"
   ]
  },
  {
   "cell_type": "code",
   "execution_count": 22,
   "metadata": {
    "collapsed": false
   },
   "outputs": [],
   "source": [
    "def rotate_img(img, degrees):\n",
    "    '''Rotates image the degrees passed in counterclockwise\n",
    "    Reshapes image to original\n",
    "    '''\n",
    "    original = img.shape\n",
    "    \n",
    "    newImg = scipy.ndimage.interpolation.rotate(np.reshape(img, (dim,dim), 'F'),degrees,reshape=False)\n",
    "    newImg = np.reshape(newImg, original, 'F')\n",
    "    return newImg"
   ]
  },
  {
   "cell_type": "code",
   "execution_count": 23,
   "metadata": {
    "collapsed": true
   },
   "outputs": [],
   "source": [
    "conn_synapse = 0.1\n",
    "probe_synapse = 0.01\n",
    "multiplier = 2\n",
    "n_neurons = 5000\n",
    "direct = False\n",
    "stop_time = 1.0\n",
    "run_time = 1.2 #in seconds"
   ]
  },
  {
   "cell_type": "code",
   "execution_count": 24,
   "metadata": {
    "collapsed": false
   },
   "outputs": [],
   "source": [
    "dim = 28\n",
    "mnist = load_mini_mnist()\n",
    "train = mnist[0]\n",
    "img = mnist[1][0]\n",
    "compress_size = 400\n",
    "basis, S, V = svds(train.T, k=compress_size)\n",
    "\n",
    "angle =60"
   ]
  },
  {
   "cell_type": "code",
   "execution_count": 25,
   "metadata": {
    "collapsed": false
   },
   "outputs": [],
   "source": [
    "expanded_basis = np.array([random.choice(basis.T) for _ in range(n_neurons)])"
   ]
  },
  {
   "cell_type": "code",
   "execution_count": 26,
   "metadata": {
    "collapsed": true
   },
   "outputs": [],
   "source": [
    "def stim_func(t):\n",
    "    '''returns the image'''\n",
    "    if t < stop_time:\n",
    "        return img\n",
    "    else:\n",
    "        return [0 for _ in range(len(img))]"
   ]
  },
  {
   "cell_type": "code",
   "execution_count": 27,
   "metadata": {
    "collapsed": true
   },
   "outputs": [],
   "source": [
    "def stim_func2(t):\n",
    "    '''returns the image rotated 60 degrees'''\n",
    "    if t < stop_time:\n",
    "        return rotate_img(img,60)\n",
    "    else:\n",
    "        return [0 for _ in range(len(img))]"
   ]
  },
  {
   "cell_type": "code",
   "execution_count": 28,
   "metadata": {
    "collapsed": false
   },
   "outputs": [],
   "source": [
    "def stim_func3(t):\n",
    "    '''returns original image, the rotated 45, the rotated 90'''\n",
    "    if t < 0.2:\n",
    "        return img\n",
    "    elif t < 0.4:\n",
    "        return rotate_img(img,45)\n",
    "    elif t < stop_time: \n",
    "        return rotate_img(img,90)\n",
    "            \n",
    "        \n",
    "    else:\n",
    "        return [0 for _ in range(len(img))]"
   ]
  },
  {
   "cell_type": "code",
   "execution_count": 29,
   "metadata": {
    "collapsed": true
   },
   "outputs": [],
   "source": [
    "def stim_func4(t):\n",
    "    '''returns the image rotated at 60 degrees per second (indefinitely until stop time)\n",
    "    Could change function to stop at specific angle'''\n",
    "    if t < stop_time:\n",
    "        return rotate_img(img,((t*10)//1)*6) #60 deg per sec, 6 degrees per 0.1 sec\n",
    "    else:\n",
    "        return [0 for _ in range(len(img))]"
   ]
  },
  {
   "cell_type": "code",
   "execution_count": 30,
   "metadata": {
    "collapsed": false
   },
   "outputs": [],
   "source": [
    "with nengo.Network() as net:\n",
    "    \n",
    "    if direct:\n",
    "        neuron_type = nengo.Direct()\n",
    "    else:\n",
    "        neuron_type = nengo.LIF()        \n",
    "\n",
    "    #ipt = nengo.Node(stim_func)\n",
    "    #ipt2 = nengo.Node(stim_func2)\n",
    "    #ipt3 = nengo.Node(stim_func3)\n",
    "    ipt4 = nengo.Node(stim_func4)\n",
    "    \n",
    "    \n",
    "    ens = nengo.Ensemble(n_neurons,\n",
    "                         dimensions=dim**2,\n",
    "                         encoders=expanded_basis,\n",
    "                         eval_points=expanded_basis,\n",
    "                         n_eval_points=n_neurons,\n",
    "                         neuron_type=neuron_type)\n",
    "\n",
    "    nengo.Connection(ipt4, ens, synapse=None, transform=1)\n",
    "    conn = nengo.Connection(ens, ens, synapse=conn_synapse)\n",
    "\n",
    "    probe = nengo.Probe(ens, attr='decoded_output',\n",
    "                        synapse=probe_synapse)\n",
    "    #sample_every=0.01?"
   ]
  },
  {
   "cell_type": "code",
   "execution_count": 31,
   "metadata": {
    "collapsed": true
   },
   "outputs": [],
   "source": [
    "sim = nengo.Simulator(net)"
   ]
  },
  {
   "cell_type": "code",
   "execution_count": 32,
   "metadata": {
    "collapsed": false
   },
   "outputs": [
    {
     "name": "stdout",
     "output_type": "stream",
     "text": [
      "Simulation finished in 0:00:10.                                                 \n"
     ]
    }
   ],
   "source": [
    "sim.run(run_time)"
   ]
  },
  {
   "cell_type": "code",
   "execution_count": 33,
   "metadata": {
    "collapsed": false
   },
   "outputs": [
    {
     "data": {
      "text/plain": [
       "<matplotlib.image.AxesImage at 0x3b620748>"
      ]
     },
     "execution_count": 33,
     "metadata": {},
     "output_type": "execute_result"
    }
   ],
   "source": [
    "pylab.imshow(np.reshape(img, (dim,dim), 'F'), cmap='Greys_r')"
   ]
  },
  {
   "cell_type": "code",
   "execution_count": 34,
   "metadata": {
    "collapsed": false
   },
   "outputs": [],
   "source": [
    "'''Image at stop time'''\n",
    "im = pylab.imshow(np.reshape([0. if x < 0.00001 else x for x in sim.data[probe][int(stop_time*1000)]], \n",
    "                             (dim, dim), 'F'), cmap=plt.get_cmap('Greys_r'),animated=True)"
   ]
  },
  {
   "cell_type": "code",
   "execution_count": 36,
   "metadata": {
    "collapsed": false
   },
   "outputs": [],
   "source": [
    "'''Animation for Probe output'''\n",
    "fig = plt.figure()\n",
    "#num = 0\n",
    "\n",
    "def updatefig(i):\n",
    "#    global num\n",
    "#    num +=1\n",
    "    im = pylab.imshow(np.reshape([0. if x < 0.00001 else x \n",
    "\n",
    "                              for x in sim.data[probe][i]], (dim, dim), 'F'), cmap=plt.get_cmap('Greys_r'),\n",
    "                  animated=True)\n",
    "    return im,\n",
    "\n",
    "ani = animation.FuncAnimation(fig, updatefig, interval=1, blit=True)\n",
    "plt.show()\n",
    "\n",
    "\n",
    "\n",
    "#pylab.imshow(np.reshape([0. if x < 0.00001 else x \n",
    "#                        for x in sim.data[probe][4]], (dim, dim), 'F'), cmap='Greys_r')\n",
    "#im = plt.imshow(f(x, y), cmap=plt.get_cmap('viridis'), animated=True)"
   ]
  }
 ],
 "metadata": {
  "kernelspec": {
   "display_name": "Python 2",
   "language": "python",
   "name": "python2"
  },
  "language_info": {
   "codemirror_mode": {
    "name": "ipython",
    "version": 2
   },
   "file_extension": ".py",
   "mimetype": "text/x-python",
   "name": "python",
   "nbconvert_exporter": "python",
   "pygments_lexer": "ipython2",
   "version": "2.7.11"
  }
 },
 "nbformat": 4,
 "nbformat_minor": 0
}
