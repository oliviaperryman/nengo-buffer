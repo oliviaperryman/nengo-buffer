{
 "cells": [
  {
   "cell_type": "code",
   "execution_count": 1,
   "metadata": {
    "collapsed": true
   },
   "outputs": [],
   "source": [
    "import cPickle\n",
    "from matplotlib import pylab\n",
    "import matplotlib.pyplot as plt"
   ]
  },
  {
   "cell_type": "code",
   "execution_count": 42,
   "metadata": {
    "collapsed": false
   },
   "outputs": [],
   "source": [
    "rangezero, ssim_zero =  cPickle.load(open(\"ssim_zero.p\", \"r\"))\n",
    "rangeone, ssim_one =  cPickle.load(open(\"ssim_one.p\", \"r\"))\n",
    "rangetwo, ssim_two =  cPickle.load(open(\"ssim_two.p\", \"r\"))\n",
    "rangethree, ssim_three =  cPickle.load(open(\"ssim_three.p\", \"r\"))\n",
    "rangefour, ssim_four =  cPickle.load(open(\"ssim_four.p\", \"r\"))\n",
    "rangefive, ssim_five =  cPickle.load(open(\"ssim_five.p\", \"r\"))\n",
    "rangesix, ssim_six =  cPickle.load(open(\"ssim_six.p\", \"r\"))\n",
    "rangeseven, ssim_seven =  cPickle.load(open(\"ssim_seven.p\", \"r\"))\n",
    "rangeeight, ssim_eight =  cPickle.load(open(\"ssim_eight.p\", \"r\"))\n",
    "rangenine, ssim_nine =  cPickle.load(open(\"ssim_nine.p\", \"r\"))\n"
   ]
  },
  {
   "cell_type": "code",
   "execution_count": 48,
   "metadata": {
    "collapsed": false
   },
   "outputs": [],
   "source": [
    "plt.plot(rangezero, ssim_zero, label=\"ZERO\")\n",
    "plt.plot(rangeone, ssim_one, label=\"ONE\")\n",
    "plt.plot(rangetwo, ssim_two, label=\"TWO\")\n",
    "plt.plot(rangethree, ssim_three, label=\"THREE\")\n",
    "plt.plot(rangefour, ssim_four, label=\"FOUR\")\n",
    "plt.plot(rangefive, ssim_five, label=\"FIVE\")\n",
    "plt.plot(rangesix, ssim_six, label=\"SIX\")\n",
    "plt.plot(rangeseven, ssim_seven, label=\"SEVEN\", color=\"yellow\")\n",
    "plt.plot(rangeeight, ssim_eight, label=\"EIGHT\", color=\"orange\")\n",
    "plt.plot(rangenine, ssim_nine, label=\"NINE\", color=\"pink\")\n",
    "\n",
    "\n",
    "\n",
    "plt.legend()\n",
    "plt.xlim((0,3))\n",
    "plt.show()"
   ]
  },
  {
   "cell_type": "code",
   "execution_count": 49,
   "metadata": {
    "collapsed": true
   },
   "outputs": [],
   "source": [
    "rangezero, cosine_zero =  cPickle.load(open(\"cosine_zero.p\", \"r\"))\n",
    "rangeone, cosine_one =  cPickle.load(open(\"cosine_one.p\", \"r\"))\n",
    "rangetwo, cosine_two =  cPickle.load(open(\"cosine_two.p\", \"r\"))\n",
    "rangethree, cosine_three =  cPickle.load(open(\"cosine_three.p\", \"r\"))\n",
    "rangefour, cosine_four =  cPickle.load(open(\"cosine_four.p\", \"r\"))\n",
    "rangefive, cosine_five =  cPickle.load(open(\"cosine_five.p\", \"r\"))\n",
    "rangesix, cosine_six =  cPickle.load(open(\"cosine_six.p\", \"r\"))\n",
    "rangeseven, cosine_seven =  cPickle.load(open(\"cosine_seven.p\", \"r\"))\n",
    "rangeeight, cosine_eight =  cPickle.load(open(\"cosine_eight.p\", \"r\"))\n",
    "rangenine, cosine_nine =  cPickle.load(open(\"cosine_nine.p\", \"r\"))\n",
    "\n"
   ]
  },
  {
   "cell_type": "code",
   "execution_count": 50,
   "metadata": {
    "collapsed": false
   },
   "outputs": [],
   "source": [
    "plt.plot(rangezero, cosine_zero, label=\"ZERO\")\n",
    "plt.plot(rangeone, cosine_one, label=\"ONE\")\n",
    "plt.plot(rangetwo, cosine_two, label=\"TWO\")\n",
    "plt.plot(rangethree, cosine_three, label=\"THREE\")\n",
    "plt.plot(rangefour, cosine_four, label=\"FOUR\")\n",
    "plt.plot(rangefive, cosine_five, label=\"FIVE\")\n",
    "plt.plot(rangesix, cosine_six, label=\"SIX\")\n",
    "plt.plot(rangeseven, cosine_seven, label=\"SEVEN\", color=\"yellow\")\n",
    "plt.plot(rangeeight, cosine_eight, label=\"EIGHT\", color=\"orange\")\n",
    "plt.plot(rangenine, cosine_nine, label=\"NINE\", color=\"pink\")\n",
    "\n",
    "plt.legend()\n",
    "plt.xlim((0,3))\n",
    "plt.show()"
   ]
  }
 ],
 "metadata": {
  "kernelspec": {
   "display_name": "Python 2",
   "language": "python",
   "name": "python2"
  },
  "language_info": {
   "codemirror_mode": {
    "name": "ipython",
    "version": 2
   },
   "file_extension": ".py",
   "mimetype": "text/x-python",
   "name": "python",
   "nbconvert_exporter": "python",
   "pygments_lexer": "ipython2",
   "version": "2.7.11"
  }
 },
 "nbformat": 4,
 "nbformat_minor": 0
}
