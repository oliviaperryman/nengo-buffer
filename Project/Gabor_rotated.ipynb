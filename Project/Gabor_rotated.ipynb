{
 "cells": [
  {
   "cell_type": "code",
   "execution_count": 5,
   "metadata": {
    "collapsed": false
   },
   "outputs": [],
   "source": [
    "from nengo_extras.vision import Gabor, Mask\n",
    "import numpy as np\n",
    "import matplotlib.pyplot as plt\n",
    "%matplotlib inline\n",
    "from scipy.ndimage.interpolation import rotate"
   ]
  },
  {
   "cell_type": "code",
   "execution_count": null,
   "metadata": {
    "collapsed": false
   },
   "outputs": [],
   "source": [
    "n_hid=5000\n",
    "degrees = 6"
   ]
  },
  {
   "cell_type": "code",
   "execution_count": null,
   "metadata": {
    "collapsed": false
   },
   "outputs": [],
   "source": [
    "rng = np.random.RandomState(9)\n",
    "# linear filter used for edge detection as encoders, more plausible for human visual system\n",
    "encoders = Gabor().generate(n_hid/60, (11, 11), rng=rng)\n",
    "encoders = Mask((28, 28)).populate(encoders, rng=rng, flatten=True)\n",
    "\n",
    "#Check the encoders were correctly made\n",
    "plt.imshow(encoders[0].reshape(28, 28), vmin=encoders[0].min(), vmax=encoders[0].max(), cmap='gray')"
   ]
  },
  {
   "cell_type": "code",
   "execution_count": null,
   "metadata": {
    "collapsed": false
   },
   "outputs": [],
   "source": [
    "rotated_encoders = encoders.copy()\n",
    "\n",
    "for encoder in encoders:\n",
    "    for i in range(59):\n",
    "        rotated_encoders = np.append(rotated_encoders, [rotate(encoder.reshape(28,28),degrees*i,reshape = False).ravel()],axis =0)\n",
    "    "
   ]
  },
  {
   "cell_type": "code",
   "execution_count": null,
   "metadata": {
    "collapsed": false
   },
   "outputs": [],
   "source": [
    "for i in range(1,6):\n",
    "    plt.subplot(1,5,i)\n",
    "    plt.imshow(rotated_encoders[6*83+i].reshape(28,28),cmap='gray')\n",
    "\n",
    "\n",
    "plt.show()"
   ]
  },
  {
   "cell_type": "code",
   "execution_count": null,
   "metadata": {
    "collapsed": false
   },
   "outputs": [],
   "source": [
    "extra_encoders = Gabor().generate(n_hid - len(rotated_encoders), (11, 11), rng=rng)\n",
    "extra_encoders = Mask((28, 28)).populate(extra_encoders, rng=rng, flatten=True)\n",
    "all_encoders = np.append(rotated_encoders, extra_encoders, axis =0)\n"
   ]
  },
  {
   "cell_type": "code",
   "execution_count": null,
   "metadata": {
    "collapsed": false
   },
   "outputs": [],
   "source": [
    "print(len(all_encoders))"
   ]
  },
  {
   "cell_type": "code",
   "execution_count": 39,
   "metadata": {
    "collapsed": false
   },
   "outputs": [],
   "source": [
    "import numpy as np\n",
    "\n",
    "from nengo.dists import Choice, Uniform, DistributionParam\n",
    "from nengo.params import FrozenObject, TupleParam\n",
    "from nengo.utils.compat import range\n",
    "\n",
    "class Mask(FrozenObject):\n",
    "    \"\"\"Describes a sparse receptive-field mask for encoders.\n",
    "    Parameters\n",
    "    ----------\n",
    "    image_shape : 2- or 3-tuple\n",
    "        Shape of the input image, either (height, witdh) or\n",
    "        (channels, height, width).\n",
    "    \"\"\"\n",
    "\n",
    "    image_shape = TupleParam('image_shape', length=3)\n",
    "\n",
    "    def __init__(self, image_shape):\n",
    "        image_shape = ((1,) + tuple(image_shape) if len(image_shape) == 2 else\n",
    "                       image_shape)\n",
    "        self.image_shape = image_shape\n",
    "\n",
    "    def _positions(self, n, shape, rng):\n",
    "        diff_shape = np.asarray(self.image_shape[1:]) - np.asarray(shape) + 1\n",
    "        \n",
    "        # find random positions for top-left corner of each RF\n",
    "        i = rng.randint(low=0, high=diff_shape[0], size=n)\n",
    "        j = rng.randint(low=0, high=diff_shape[1], size=n)\n",
    "        return i, j\n",
    "\n",
    "    def generate(self, n, shape, rng=np.random, flatten=False):\n",
    "        shape = np.asarray(shape)\n",
    "        assert shape.ndim == 1 and shape.shape[0] == 2\n",
    "\n",
    "        i, j = self._positions(n, shape, rng)\n",
    "        mask = np.zeros((n,) + self.image_shape, dtype='bool')\n",
    "        for k in range(n):\n",
    "            mask[k, :, i[k]:i[k]+shape[0], j[k]:j[k]+shape[1]] = True\n",
    "\n",
    "        return mask.reshape(n, -1) if flatten else mask\n",
    "\n",
    "    def populate(self, filters, rng=np.random, flatten=False):\n",
    "        filters = np.asarray(filters)\n",
    "        assert filters.ndim in [3, 4]\n",
    "        n, shape = filters.shape[0], filters.shape[-2:]\n",
    "        channels = 1 if filters.ndim == 3 else filters.shape[1]\n",
    "        assert channels == self.image_shape[0]\n",
    "\n",
    "        i, j = self._positions(n, shape, rng)\n",
    "        print(n)\n",
    "        print(shape)\n",
    "        print(rng)\n",
    "        print(i)\n",
    "        print(j)\n",
    "        i=[9,0,0,0]\n",
    "        j=[0,0,0,0]\n",
    "        print(i)\n",
    "        print(j)\n",
    "        \n",
    "        \n",
    "        output = np.zeros((n,) + self.image_shape, dtype=filters.dtype)\n",
    "        for k in range(n):\n",
    "            output[k, :, i[k]:i[k]+shape[0], j[k]:j[k]+shape[1]] = filters[k]\n",
    "\n",
    "        return output.reshape(n, -1) if flatten else output"
   ]
  },
  {
   "cell_type": "code",
   "execution_count": 40,
   "metadata": {
    "collapsed": false
   },
   "outputs": [
    {
     "name": "stdout",
     "output_type": "stream",
     "text": [
      "4\n",
      "(11L, 11L)\n",
      "<mtrand.RandomState object at 0x0000000019E1F678>\n",
      "[ 3 11  5  6]\n",
      "[ 9 16 17  8]\n",
      "[9, 0, 0, 0]\n",
      "[0, 0, 0, 0]\n"
     ]
    }
   ],
   "source": [
    "rng = np.random.RandomState(9)\n",
    "encoders = Gabor().generate(4, (11, 11), rng=rng)\n",
    "encoders = Mask((28, 28)).populate(encoders, rng=rng, flatten=True)"
   ]
  },
  {
   "cell_type": "code",
   "execution_count": 41,
   "metadata": {
    "collapsed": false
   },
   "outputs": [
    {
     "data": {
      "text/plain": [
       "<matplotlib.image.AxesImage at 0x19f51550>"
      ]
     },
     "execution_count": 41,
     "metadata": {},
     "output_type": "execute_result"
    },
    {
     "data": {
      "image/png": "[encoded data removed]",
      "text/plain": [
       "<matplotlib.figure.Figure at 0x19ab07f0>"
      ]
     },
     "metadata": {},
     "output_type": "display_data"
    }
   ],
   "source": [
    "plt.imshow(encoders[0].reshape(28, 28), vmin=encoders[0].min(), vmax=encoders[0].max(), cmap='gray')"
   ]
  },
  {
   "cell_type": "code",
   "execution_count": null,
   "metadata": {
    "collapsed": true
   },
   "outputs": [],
   "source": []
  }
 ],
 "metadata": {
  "kernelspec": {
   "display_name": "Python 2",
   "language": "python",
   "name": "python2"
  },
  "language_info": {
   "codemirror_mode": {
    "name": "ipython",
    "version": 2
   },
   "file_extension": ".py",
   "mimetype": "text/x-python",
   "name": "python",
   "nbconvert_exporter": "python",
   "pygments_lexer": "ipython2",
   "version": "2.7.11"
  }
 },
 "nbformat": 4,
 "nbformat_minor": 0
}
