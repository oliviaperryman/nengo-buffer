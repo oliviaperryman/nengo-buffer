{
 "cells": [
  {
   "cell_type": "code",
   "execution_count": 1,
   "metadata": {
    "collapsed": false
   },
   "outputs": [],
   "source": [
    "from nengo_extras.vision import Gabor, Mask\n",
    "import numpy as np\n",
    "import matplotlib.pyplot as plt\n",
    "%matplotlib inline\n",
    "from scipy.ndimage.interpolation import rotate"
   ]
  },
  {
   "cell_type": "code",
   "execution_count": null,
   "metadata": {
    "collapsed": false
   },
   "outputs": [],
   "source": [
    "n_hid=5000\n",
    "degrees = 6"
   ]
  },
  {
   "cell_type": "code",
   "execution_count": null,
   "metadata": {
    "collapsed": false
   },
   "outputs": [],
   "source": [
    "rng = np.random.RandomState(9)\n",
    "# linear filter used for edge detection as encoders, more plausible for human visual system\n",
    "encoders = Gabor().generate(n_hid/60, (11, 11), rng=rng)\n",
    "encoders = Mask((28, 28)).populate(encoders, rng=rng, flatten=True)\n",
    "\n",
    "#Check the encoders were correctly made\n",
    "plt.imshow(encoders[0].reshape(28, 28), vmin=encoders[0].min(), vmax=encoders[0].max(), cmap='gray')"
   ]
  },
  {
   "cell_type": "code",
   "execution_count": null,
   "metadata": {
    "collapsed": false
   },
   "outputs": [],
   "source": [
    "rotated_encoders = encoders.copy()\n",
    "\n",
    "for encoder in encoders:\n",
    "    for i in range(59):\n",
    "        rotated_encoders = np.append(rotated_encoders, [rotate(encoder.reshape(28,28),degrees*i,reshape = False).ravel()],axis =0)\n",
    "    "
   ]
  },
  {
   "cell_type": "code",
   "execution_count": null,
   "metadata": {
    "collapsed": false
   },
   "outputs": [],
   "source": [
    "for i in range(1,6):\n",
    "    plt.subplot(1,5,i)\n",
    "    plt.imshow(rotated_encoders[6*83+i].reshape(28,28),cmap='gray')\n",
    "\n",
    "\n",
    "plt.show()"
   ]
  },
  {
   "cell_type": "code",
   "execution_count": null,
   "metadata": {
    "collapsed": false
   },
   "outputs": [],
   "source": [
    "extra_encoders = Gabor().generate(n_hid - len(rotated_encoders), (11, 11), rng=rng)\n",
    "extra_encoders = Mask((28, 28)).populate(extra_encoders, rng=rng, flatten=True)\n",
    "all_encoders = np.append(rotated_encoders, extra_encoders, axis =0)\n"
   ]
  },
  {
   "cell_type": "code",
   "execution_count": null,
   "metadata": {
    "collapsed": false
   },
   "outputs": [],
   "source": [
    "print(len(all_encoders))"
   ]
  },
  {
   "cell_type": "code",
   "execution_count": 2,
   "metadata": {
    "collapsed": false
   },
   "outputs": [],
   "source": [
    "import numpy as np\n",
    "\n",
    "from nengo.dists import Choice, Uniform, DistributionParam\n",
    "from nengo.params import FrozenObject, TupleParam\n",
    "from nengo.utils.compat import range\n",
    "\n",
    "class Gabor(FrozenObject):\n",
    "    \"\"\"Desribes a random generator for Gabor filters.\"\"\"\n",
    "\n",
    "    theta = DistributionParam('theta')\n",
    "    freq = DistributionParam('freq')\n",
    "    phase = DistributionParam('phase')\n",
    "    sigma_x = DistributionParam('sigma_x')\n",
    "    sigma_y = DistributionParam('sigma_y')\n",
    "\n",
    "    def __init__(self, theta=Uniform(-np.pi, np.pi), freq=Uniform(0.2, 2),\n",
    "                 phase=Uniform(-np.pi, np.pi),\n",
    "                 sigma_x=Choice([0.45]), sigma_y=Choice([0.45])):\n",
    "        self.theta = theta\n",
    "        self.freq = freq\n",
    "        self.phase = phase\n",
    "        self.sigma_x = sigma_x\n",
    "        self.sigma_y = sigma_y\n",
    "\n",
    "    def generate(self, n, shape, rng=np.random, norm=1.):\n",
    "        assert isinstance(shape, tuple) and len(shape) == 2\n",
    "        thetas = self.theta.sample(n, rng=rng)[:, None, None]\n",
    "        freqs = self.freq.sample(n, rng=rng)[:, None, None]\n",
    "        phases = self.phase.sample(n, rng=rng)[:, None, None]\n",
    "        sigma_xs = self.sigma_x.sample(n, rng=rng)[:, None, None]\n",
    "        sigma_ys = self.sigma_y.sample(n, rng=rng)[:, None, None]\n",
    "\n",
    "        x, y = np.linspace(-1, 1, shape[1]), np.linspace(-1, 1, shape[0])\n",
    "        X, Y = np.meshgrid(x, y)\n",
    "\n",
    "        c, s = np.cos(thetas), np.sin(thetas)\n",
    "        X1 = X * c + Y * s\n",
    "        Y1 = -X * s + Y * c\n",
    "\n",
    "        gabors = np.exp(-0.5 * ((X1 / sigma_xs)**2 + (Y1 / sigma_ys)**2))\n",
    "        gabors *= np.cos((2 * np.pi) * freqs * X1 + phases)\n",
    "\n",
    "        if norm is not None:\n",
    "            gabors *= norm / np.sqrt(\n",
    "                (gabors**2).sum(axis=(1, 2), keepdims=True)).clip(1e-5, np.inf)\n",
    "\n",
    "        return gabors\n",
    "\n",
    "class Mask(FrozenObject):\n",
    "    \"\"\"Describes a sparse receptive-field mask for encoders.\n",
    "    Parameters\n",
    "    ----------\n",
    "    image_shape : 2- or 3-tuple\n",
    "        Shape of the input image, either (height, witdh) or\n",
    "        (channels, height, width).\n",
    "    \"\"\"\n",
    "\n",
    "    image_shape = TupleParam('image_shape', length=3)\n",
    "\n",
    "    def __init__(self, image_shape):\n",
    "        image_shape = ((1,) + tuple(image_shape) if len(image_shape) == 2 else\n",
    "                       image_shape)\n",
    "        self.image_shape = image_shape\n",
    "\n",
    "    def _positions(self, n, shape, rng):\n",
    "        diff_shape = np.asarray(self.image_shape[1:]) - np.asarray(shape) + 1\n",
    "        \n",
    "        # find random positions for top-left corner of each RF\n",
    "        i = rng.randint(low=0, high=diff_shape[0], size=n)\n",
    "        j = rng.randint(low=0, high=diff_shape[1], size=n)\n",
    "        return i, j\n",
    "\n",
    "    def generate(self, n, shape, rng=np.random, flatten=False):\n",
    "        shape = np.asarray(shape)\n",
    "        assert shape.ndim == 1 and shape.shape[0] == 2\n",
    "\n",
    "        i, j = self._positions(n, shape, rng)\n",
    "        mask = np.zeros((n,) + self.image_shape, dtype='bool')\n",
    "        for k in range(n):\n",
    "            mask[k, :, i[k]:i[k]+shape[0], j[k]:j[k]+shape[1]] = True\n",
    "\n",
    "        return mask.reshape(n, -1) if flatten else mask\n",
    "\n",
    "    def populate(self, filters, rng=np.random, flatten=False, radius=8.5):\n",
    "        filters = np.asarray(filters)\n",
    "        assert filters.ndim in [3, 4]\n",
    "        n, shape = filters.shape[0], filters.shape[-2:]\n",
    "        channels = 1 if filters.ndim == 3 else filters.shape[1]\n",
    "        assert channels == self.image_shape[0]\n",
    "\n",
    "        #i, j = self._positions(n, shape, rng)\n",
    "        i=[]\n",
    "        j=[]\n",
    "\n",
    "        for theta in range(0,360,6):\n",
    "            i = np.append(i,round(14 - (np.sin(theta * np.pi /180) * radius + 5.5),10))\n",
    "            j = np.append(j,round(np.cos(theta * np.pi /180) * radius -5.5 +14,10))\n",
    "\n",
    "        \n",
    "        output = np.zeros((n,) + self.image_shape, dtype=filters.dtype)\n",
    "        for k in range(n):\n",
    "            output[k, :, i[k]:i[k]+shape[0], j[k]:j[k]+shape[1]] = filters[k]\n",
    "\n",
    "        return output.reshape(n, -1) if flatten else output"
   ]
  },
  {
   "cell_type": "code",
   "execution_count": 3,
   "metadata": {
    "collapsed": false
   },
   "outputs": [
    {
     "name": "stdout",
     "output_type": "stream",
     "text": [
      "(60L, 11L, 11L)\n"
     ]
    }
   ],
   "source": [
    "def gabor(width, height, lambd, theta, psi, sigma, gamma, x_offset, y_offset):\n",
    "    x = np.linspace(-1, 1, width)\n",
    "    y = np.linspace(-1, 1, height)\n",
    "    X, Y = np.meshgrid(x, y)\n",
    "    X = X - x_offset\n",
    "    Y = Y + y_offset\n",
    "\n",
    "    cosTheta = np.cos(theta)\n",
    "    sinTheta = np.sin(theta)\n",
    "    xTheta = X * cosTheta  + Y * sinTheta\n",
    "    yTheta = -X * sinTheta + Y * cosTheta\n",
    "    e = np.exp( -(xTheta**2 + yTheta**2 * gamma**2) / (2 * sigma**2) )\n",
    "    cos = np.cos(2 * np.pi * xTheta / lambd + psi)\n",
    "    return e * cos\n",
    "\n",
    "g = gabor(11, 11, lambd=0.6, \n",
    "                    theta=np.pi/4, \n",
    "                    psi=np.pi/2, \n",
    "                    sigma=0.2, \n",
    "                    gamma=0.7,\n",
    "                    x_offset=0,\n",
    "                    y_offset=0)\n",
    "\n",
    "def make_random_gabor(width, height):\n",
    "    return gabor(width, height, \n",
    "                  lambd=random.uniform(0.3, 0.8),\n",
    "                  theta=random.uniform(0, 2*numpy.pi),\n",
    "                  psi=random.uniform(0, 2*numpy.pi),\n",
    "                  sigma=random.uniform(0.2, 0.5),\n",
    "                  gamma=random.uniform(0.4, 0.8),\n",
    "                  x_offset=random.uniform(-1, 1),\n",
    "                  y_offset=random.uniform(-1, 1))\n",
    "\n",
    "def make_gabor_angle(theta):\n",
    "     return gabor(11, 11, lambd=0.6, \n",
    "                    theta=-theta*np.pi /180, #degrees to radians\n",
    "                    psi=np.pi/2, \n",
    "                    sigma=0.2, \n",
    "                    gamma=0.7,\n",
    "                    x_offset=0,\n",
    "                    y_offset=0)\n",
    "\n",
    "encoders = np.array([make_gabor_angle(i) for i in range(0,360,6)])\n",
    "print(encoders.shape)"
   ]
  },
  {
   "cell_type": "code",
   "execution_count": 4,
   "metadata": {
    "collapsed": false
   },
   "outputs": [
    {
     "name": "stdout",
     "output_type": "stream",
     "text": [
      "(60L, 784L)\n"
     ]
    },
    {
     "name": "stderr",
     "output_type": "stream",
     "text": [
      "C:\\Python27\\lib\\site-packages\\ipykernel\\__main__.py:102: VisibleDeprecationWarning: using a non-integer number instead of an integer will result in an error in the future\n"
     ]
    }
   ],
   "source": [
    "rng = np.random.RandomState(9)\n",
    "#encoders = Gabor().generate(1, (11, 11), rng=rng)\n",
    "#print(encoders.shape)\n",
    "#encoders = np.array([g])\n",
    "#encoders = np.tile(encoders,(60,1,1))\n",
    "encoders = Mask((28, 28)).populate(encoders, rng=rng, flatten=True)\n",
    "print(encoders.shape)"
   ]
  },
  {
   "cell_type": "code",
   "execution_count": 5,
   "metadata": {
    "collapsed": false
   },
   "outputs": [
    {
     "name": "stderr",
     "output_type": "stream",
     "text": [
      "C:\\Python27\\lib\\site-packages\\ipykernel\\__main__.py:102: VisibleDeprecationWarning: using a non-integer number instead of an integer will result in an error in the future\n"
     ]
    }
   ],
   "source": [
    "all_encoders = encoders.copy()\n",
    "\n",
    "for theta in range(60,360,60):\n",
    "    encoders = np.array([make_gabor_angle(i+theta) for i in range(0,360,6)])\n",
    "    encoders = Mask((28, 28)).populate(encoders, rng=rng, flatten=True)\n",
    "    all_encoders = np.append(all_encoders,encoders,axis=0)\n",
    "\n",
    "    \n",
    "for theta in range(60,360,60):\n",
    "    encoders = np.array([make_gabor_angle(i+theta) for i in range(0,360,6)])\n",
    "    encoders = Mask((28, 28)).populate(encoders, rng=rng, flatten=True,radius=4)\n",
    "    all_encoders = np.append(all_encoders,encoders,axis=0)\n",
    "\n"
   ]
  },
  {
   "cell_type": "code",
   "execution_count": 49,
   "metadata": {
    "collapsed": false
   },
   "outputs": [],
   "source": [
    "import cPickle\n",
    "cPickle.dump(all_encoders, open( \"encoders.p\", \"wb\" ) )"
   ]
  },
  {
   "cell_type": "code",
   "execution_count": 6,
   "metadata": {
    "collapsed": false
   },
   "outputs": [
    {
     "data": {
      "text/plain": [
       "<matplotlib.image.AxesImage at 0xc3f67f0>"
      ]
     },
     "execution_count": 6,
     "metadata": {},
     "output_type": "execute_result"
    },
    {
     "data": {
      "image/png": "[encoded data removed]",
      "text/plain": [
       "<matplotlib.figure.Figure at 0x46ceda0>"
      ]
     },
     "metadata": {},
     "output_type": "display_data"
    }
   ],
   "source": [
    "plt.imshow(encoders[0].reshape(28, 28), vmin=encoders[0].min(), vmax=encoders[0].max(), cmap='gray')"
   ]
  },
  {
   "cell_type": "code",
   "execution_count": null,
   "metadata": {
    "collapsed": false
   },
   "outputs": [],
   "source": [
    "i=[]\n",
    "j=[]\n",
    "\n",
    "for theta in range(0,360,6):\n",
    "    i = np.append(i,round(14 - (np.sin(theta * np.pi /180) * 8.5 + 5.5),3))\n",
    "    j = np.append(j,round(np.cos(theta * np.pi /180) * 8.5 -5.5 +14,3))\n",
    "#j = np.cos(0 * np.pi /180) * 8.5 -5.5 +14\n",
    "#i = 14 - (np.sin(0 * np.pi /180) * 8.5 + 5.5)\n",
    "\n",
    "print(j)\n",
    "print(i)"
   ]
  },
  {
   "cell_type": "code",
   "execution_count": 7,
   "metadata": {
    "collapsed": false
   },
   "outputs": [
    {
     "data": {
      "image/png": "[encoded data removed]",
      "text/plain": [
       "<matplotlib.figure.Figure at 0xc4be3c8>"
      ]
     },
     "metadata": {},
     "output_type": "display_data"
    }
   ],
   "source": [
    "N = 60\n",
    "\n",
    "import pylab\n",
    "pylab.figure(figsize=(10,8))\n",
    "for i in range(N):\n",
    "    w = i%12\n",
    "    h = i/12\n",
    "    pylab.imshow(encoders[i].reshape(28,28), extent=(w, w+0.95, h, h+0.95), interpolation='none',\n",
    "                 vmin=-1, vmax=1, cmap='gray')\n",
    "    pylab.xticks([])\n",
    "    pylab.yticks([])\n",
    "pylab.xlim((0, 12))\n",
    "pylab.ylim((0, N/12))\n",
    "    \n",
    "pylab.show()"
   ]
  },
  {
   "cell_type": "code",
   "execution_count": 9,
   "metadata": {
    "collapsed": false
   },
   "outputs": [
    {
     "data": {
      "text/plain": [
       "<matplotlib.image.AxesImage at 0xc702898>"
      ]
     },
     "execution_count": 9,
     "metadata": {},
     "output_type": "execute_result"
    },
    {
     "data": {
      "image/png": "[encoded data removed]",
      "text/plain": [
       "<matplotlib.figure.Figure at 0xc793160>"
      ]
     },
     "metadata": {},
     "output_type": "display_data"
    }
   ],
   "source": [
    "temp = np.sum(all_encoders[:60],axis=0)\n",
    "temp = np.resize(temp,(28,28))\n",
    "plt.imshow(temp,cmap='gray')"
   ]
  },
  {
   "cell_type": "code",
   "execution_count": null,
   "metadata": {
    "collapsed": true
   },
   "outputs": [],
   "source": []
  }
 ],
 "metadata": {
  "kernelspec": {
   "display_name": "Python 2",
   "language": "python",
   "name": "python2"
  },
  "language_info": {
   "codemirror_mode": {
    "name": "ipython",
    "version": 2
   },
   "file_extension": ".py",
   "mimetype": "text/x-python",
   "name": "python",
   "nbconvert_exporter": "python",
   "pygments_lexer": "ipython2",
   "version": "2.7.11"
  }
 },
 "nbformat": 4,
 "nbformat_minor": 0
}
